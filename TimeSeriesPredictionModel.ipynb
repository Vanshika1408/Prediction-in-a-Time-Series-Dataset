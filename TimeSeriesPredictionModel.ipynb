{
  "nbformat": 4,
  "nbformat_minor": 0,
  "metadata": {
    "colab": {
      "provenance": []
    },
    "kernelspec": {
      "name": "python3",
      "display_name": "Python 3"
    },
    "language_info": {
      "name": "python"
    }
  },
  "cells": [
    {
      "cell_type": "code",
      "execution_count": 1,
      "metadata": {
        "id": "9JEMViQjlYFi"
      },
      "outputs": [],
      "source": [
        "from dateutil.parser import parse\n",
        "import itertools\n",
        "import pandas as pd\n",
        "import numpy as np\n",
        "import seaborn as sns\n",
        "import matplotlib.pyplot as plt\n",
        "import statsmodels.api as sm\n",
        "plt.rcParams.update({'figure.figsize':(10,7),'figure.dpi':120})"
      ]
    },
    {
      "cell_type": "code",
      "source": [
        "df=pd.read_csv('/content/dataset.csv')\n",
        "df"
      ],
      "metadata": {
        "colab": {
          "base_uri": "https://localhost:8080/",
          "height": 485
        },
        "id": "eHGx3KTilflh",
        "outputId": "66ffaa48-86c3-4065-bc09-50d5edbe0a41"
      },
      "execution_count": 2,
      "outputs": [
        {
          "output_type": "execute_result",
          "data": {
            "text/plain": [
              "    Unnamed: 0  year  Para-1  Para-2  Para-3  Para-4  Para-5  Para-6  Para-7  \\\n",
              "0        Sec_1     1   324.0   354.5    17.0     0.0       3     117    2600   \n",
              "1          NaN     2   324.0   161.1    18.2     0.0       4     106    5950   \n",
              "2          NaN     3   324.0   170.7    18.5     0.0       4     110    5950   \n",
              "3          NaN     4   324.0   223.9    18.9     0.0       3     110    6150   \n",
              "4          NaN     5   324.0   228.2    18.4     0.0       2     113    6340   \n",
              "..         ...   ...     ...     ...     ...     ...     ...     ...     ...   \n",
              "995        NaN     6   454.0   931.8    13.6   125.0      13     116    4150   \n",
              "996        NaN     7   454.0   703.0    14.5    17.0      13     118    4150   \n",
              "997        NaN     8   454.0  1124.1    14.9    45.0      18     117    4200   \n",
              "998        NaN     9   454.0  1462.3    13.2    62.0      27     117    4400   \n",
              "999        NaN    10   454.0   986.3    14.3    67.0      24     122    4415   \n",
              "\n",
              "     Para-8  Para-9  Para-10  Para-11  Para-12  Para-13  \n",
              "0       400     0.0      0.0      0.0        0    1.520  \n",
              "1      1190     0.0      3.4      0.0        0    1.620  \n",
              "2      1190     0.0     21.3      0.0        4    1.680  \n",
              "3      1340     0.0     21.3      0.0        5    1.780  \n",
              "4      1450     0.0     23.9      0.0        7    1.800  \n",
              "..      ...     ...      ...      ...      ...      ...  \n",
              "995     830    15.1      1.8      1.0       15    1.681  \n",
              "996     830    24.6      7.9      2.0       15    1.838  \n",
              "997     840   119.0     15.7      2.0       16    1.862  \n",
              "998     720   138.2     30.5      6.0       18    1.883  \n",
              "999     721   293.0     39.8      7.0       18    1.889  \n",
              "\n",
              "[1000 rows x 15 columns]"
            ],
            "text/html": [
              "\n",
              "  <div id=\"df-2b8c06bb-9dd8-4aa6-9d59-89e80aadcfef\">\n",
              "    <div class=\"colab-df-container\">\n",
              "      <div>\n",
              "<style scoped>\n",
              "    .dataframe tbody tr th:only-of-type {\n",
              "        vertical-align: middle;\n",
              "    }\n",
              "\n",
              "    .dataframe tbody tr th {\n",
              "        vertical-align: top;\n",
              "    }\n",
              "\n",
              "    .dataframe thead th {\n",
              "        text-align: right;\n",
              "    }\n",
              "</style>\n",
              "<table border=\"1\" class=\"dataframe\">\n",
              "  <thead>\n",
              "    <tr style=\"text-align: right;\">\n",
              "      <th></th>\n",
              "      <th>Unnamed: 0</th>\n",
              "      <th>year</th>\n",
              "      <th>Para-1</th>\n",
              "      <th>Para-2</th>\n",
              "      <th>Para-3</th>\n",
              "      <th>Para-4</th>\n",
              "      <th>Para-5</th>\n",
              "      <th>Para-6</th>\n",
              "      <th>Para-7</th>\n",
              "      <th>Para-8</th>\n",
              "      <th>Para-9</th>\n",
              "      <th>Para-10</th>\n",
              "      <th>Para-11</th>\n",
              "      <th>Para-12</th>\n",
              "      <th>Para-13</th>\n",
              "    </tr>\n",
              "  </thead>\n",
              "  <tbody>\n",
              "    <tr>\n",
              "      <th>0</th>\n",
              "      <td>Sec_1</td>\n",
              "      <td>1</td>\n",
              "      <td>324.0</td>\n",
              "      <td>354.5</td>\n",
              "      <td>17.0</td>\n",
              "      <td>0.0</td>\n",
              "      <td>3</td>\n",
              "      <td>117</td>\n",
              "      <td>2600</td>\n",
              "      <td>400</td>\n",
              "      <td>0.0</td>\n",
              "      <td>0.0</td>\n",
              "      <td>0.0</td>\n",
              "      <td>0</td>\n",
              "      <td>1.520</td>\n",
              "    </tr>\n",
              "    <tr>\n",
              "      <th>1</th>\n",
              "      <td>NaN</td>\n",
              "      <td>2</td>\n",
              "      <td>324.0</td>\n",
              "      <td>161.1</td>\n",
              "      <td>18.2</td>\n",
              "      <td>0.0</td>\n",
              "      <td>4</td>\n",
              "      <td>106</td>\n",
              "      <td>5950</td>\n",
              "      <td>1190</td>\n",
              "      <td>0.0</td>\n",
              "      <td>3.4</td>\n",
              "      <td>0.0</td>\n",
              "      <td>0</td>\n",
              "      <td>1.620</td>\n",
              "    </tr>\n",
              "    <tr>\n",
              "      <th>2</th>\n",
              "      <td>NaN</td>\n",
              "      <td>3</td>\n",
              "      <td>324.0</td>\n",
              "      <td>170.7</td>\n",
              "      <td>18.5</td>\n",
              "      <td>0.0</td>\n",
              "      <td>4</td>\n",
              "      <td>110</td>\n",
              "      <td>5950</td>\n",
              "      <td>1190</td>\n",
              "      <td>0.0</td>\n",
              "      <td>21.3</td>\n",
              "      <td>0.0</td>\n",
              "      <td>4</td>\n",
              "      <td>1.680</td>\n",
              "    </tr>\n",
              "    <tr>\n",
              "      <th>3</th>\n",
              "      <td>NaN</td>\n",
              "      <td>4</td>\n",
              "      <td>324.0</td>\n",
              "      <td>223.9</td>\n",
              "      <td>18.9</td>\n",
              "      <td>0.0</td>\n",
              "      <td>3</td>\n",
              "      <td>110</td>\n",
              "      <td>6150</td>\n",
              "      <td>1340</td>\n",
              "      <td>0.0</td>\n",
              "      <td>21.3</td>\n",
              "      <td>0.0</td>\n",
              "      <td>5</td>\n",
              "      <td>1.780</td>\n",
              "    </tr>\n",
              "    <tr>\n",
              "      <th>4</th>\n",
              "      <td>NaN</td>\n",
              "      <td>5</td>\n",
              "      <td>324.0</td>\n",
              "      <td>228.2</td>\n",
              "      <td>18.4</td>\n",
              "      <td>0.0</td>\n",
              "      <td>2</td>\n",
              "      <td>113</td>\n",
              "      <td>6340</td>\n",
              "      <td>1450</td>\n",
              "      <td>0.0</td>\n",
              "      <td>23.9</td>\n",
              "      <td>0.0</td>\n",
              "      <td>7</td>\n",
              "      <td>1.800</td>\n",
              "    </tr>\n",
              "    <tr>\n",
              "      <th>...</th>\n",
              "      <td>...</td>\n",
              "      <td>...</td>\n",
              "      <td>...</td>\n",
              "      <td>...</td>\n",
              "      <td>...</td>\n",
              "      <td>...</td>\n",
              "      <td>...</td>\n",
              "      <td>...</td>\n",
              "      <td>...</td>\n",
              "      <td>...</td>\n",
              "      <td>...</td>\n",
              "      <td>...</td>\n",
              "      <td>...</td>\n",
              "      <td>...</td>\n",
              "      <td>...</td>\n",
              "    </tr>\n",
              "    <tr>\n",
              "      <th>995</th>\n",
              "      <td>NaN</td>\n",
              "      <td>6</td>\n",
              "      <td>454.0</td>\n",
              "      <td>931.8</td>\n",
              "      <td>13.6</td>\n",
              "      <td>125.0</td>\n",
              "      <td>13</td>\n",
              "      <td>116</td>\n",
              "      <td>4150</td>\n",
              "      <td>830</td>\n",
              "      <td>15.1</td>\n",
              "      <td>1.8</td>\n",
              "      <td>1.0</td>\n",
              "      <td>15</td>\n",
              "      <td>1.681</td>\n",
              "    </tr>\n",
              "    <tr>\n",
              "      <th>996</th>\n",
              "      <td>NaN</td>\n",
              "      <td>7</td>\n",
              "      <td>454.0</td>\n",
              "      <td>703.0</td>\n",
              "      <td>14.5</td>\n",
              "      <td>17.0</td>\n",
              "      <td>13</td>\n",
              "      <td>118</td>\n",
              "      <td>4150</td>\n",
              "      <td>830</td>\n",
              "      <td>24.6</td>\n",
              "      <td>7.9</td>\n",
              "      <td>2.0</td>\n",
              "      <td>15</td>\n",
              "      <td>1.838</td>\n",
              "    </tr>\n",
              "    <tr>\n",
              "      <th>997</th>\n",
              "      <td>NaN</td>\n",
              "      <td>8</td>\n",
              "      <td>454.0</td>\n",
              "      <td>1124.1</td>\n",
              "      <td>14.9</td>\n",
              "      <td>45.0</td>\n",
              "      <td>18</td>\n",
              "      <td>117</td>\n",
              "      <td>4200</td>\n",
              "      <td>840</td>\n",
              "      <td>119.0</td>\n",
              "      <td>15.7</td>\n",
              "      <td>2.0</td>\n",
              "      <td>16</td>\n",
              "      <td>1.862</td>\n",
              "    </tr>\n",
              "    <tr>\n",
              "      <th>998</th>\n",
              "      <td>NaN</td>\n",
              "      <td>9</td>\n",
              "      <td>454.0</td>\n",
              "      <td>1462.3</td>\n",
              "      <td>13.2</td>\n",
              "      <td>62.0</td>\n",
              "      <td>27</td>\n",
              "      <td>117</td>\n",
              "      <td>4400</td>\n",
              "      <td>720</td>\n",
              "      <td>138.2</td>\n",
              "      <td>30.5</td>\n",
              "      <td>6.0</td>\n",
              "      <td>18</td>\n",
              "      <td>1.883</td>\n",
              "    </tr>\n",
              "    <tr>\n",
              "      <th>999</th>\n",
              "      <td>NaN</td>\n",
              "      <td>10</td>\n",
              "      <td>454.0</td>\n",
              "      <td>986.3</td>\n",
              "      <td>14.3</td>\n",
              "      <td>67.0</td>\n",
              "      <td>24</td>\n",
              "      <td>122</td>\n",
              "      <td>4415</td>\n",
              "      <td>721</td>\n",
              "      <td>293.0</td>\n",
              "      <td>39.8</td>\n",
              "      <td>7.0</td>\n",
              "      <td>18</td>\n",
              "      <td>1.889</td>\n",
              "    </tr>\n",
              "  </tbody>\n",
              "</table>\n",
              "<p>1000 rows × 15 columns</p>\n",
              "</div>\n",
              "      <button class=\"colab-df-convert\" onclick=\"convertToInteractive('df-2b8c06bb-9dd8-4aa6-9d59-89e80aadcfef')\"\n",
              "              title=\"Convert this dataframe to an interactive table.\"\n",
              "              style=\"display:none;\">\n",
              "        \n",
              "  <svg xmlns=\"http://www.w3.org/2000/svg\" height=\"24px\"viewBox=\"0 0 24 24\"\n",
              "       width=\"24px\">\n",
              "    <path d=\"M0 0h24v24H0V0z\" fill=\"none\"/>\n",
              "    <path d=\"M18.56 5.44l.94 2.06.94-2.06 2.06-.94-2.06-.94-.94-2.06-.94 2.06-2.06.94zm-11 1L8.5 8.5l.94-2.06 2.06-.94-2.06-.94L8.5 2.5l-.94 2.06-2.06.94zm10 10l.94 2.06.94-2.06 2.06-.94-2.06-.94-.94-2.06-.94 2.06-2.06.94z\"/><path d=\"M17.41 7.96l-1.37-1.37c-.4-.4-.92-.59-1.43-.59-.52 0-1.04.2-1.43.59L10.3 9.45l-7.72 7.72c-.78.78-.78 2.05 0 2.83L4 21.41c.39.39.9.59 1.41.59.51 0 1.02-.2 1.41-.59l7.78-7.78 2.81-2.81c.8-.78.8-2.07 0-2.86zM5.41 20L4 18.59l7.72-7.72 1.47 1.35L5.41 20z\"/>\n",
              "  </svg>\n",
              "      </button>\n",
              "      \n",
              "  <style>\n",
              "    .colab-df-container {\n",
              "      display:flex;\n",
              "      flex-wrap:wrap;\n",
              "      gap: 12px;\n",
              "    }\n",
              "\n",
              "    .colab-df-convert {\n",
              "      background-color: #E8F0FE;\n",
              "      border: none;\n",
              "      border-radius: 50%;\n",
              "      cursor: pointer;\n",
              "      display: none;\n",
              "      fill: #1967D2;\n",
              "      height: 32px;\n",
              "      padding: 0 0 0 0;\n",
              "      width: 32px;\n",
              "    }\n",
              "\n",
              "    .colab-df-convert:hover {\n",
              "      background-color: #E2EBFA;\n",
              "      box-shadow: 0px 1px 2px rgba(60, 64, 67, 0.3), 0px 1px 3px 1px rgba(60, 64, 67, 0.15);\n",
              "      fill: #174EA6;\n",
              "    }\n",
              "\n",
              "    [theme=dark] .colab-df-convert {\n",
              "      background-color: #3B4455;\n",
              "      fill: #D2E3FC;\n",
              "    }\n",
              "\n",
              "    [theme=dark] .colab-df-convert:hover {\n",
              "      background-color: #434B5C;\n",
              "      box-shadow: 0px 1px 3px 1px rgba(0, 0, 0, 0.15);\n",
              "      filter: drop-shadow(0px 1px 2px rgba(0, 0, 0, 0.3));\n",
              "      fill: #FFFFFF;\n",
              "    }\n",
              "  </style>\n",
              "\n",
              "      <script>\n",
              "        const buttonEl =\n",
              "          document.querySelector('#df-2b8c06bb-9dd8-4aa6-9d59-89e80aadcfef button.colab-df-convert');\n",
              "        buttonEl.style.display =\n",
              "          google.colab.kernel.accessAllowed ? 'block' : 'none';\n",
              "\n",
              "        async function convertToInteractive(key) {\n",
              "          const element = document.querySelector('#df-2b8c06bb-9dd8-4aa6-9d59-89e80aadcfef');\n",
              "          const dataTable =\n",
              "            await google.colab.kernel.invokeFunction('convertToInteractive',\n",
              "                                                     [key], {});\n",
              "          if (!dataTable) return;\n",
              "\n",
              "          const docLinkHtml = 'Like what you see? Visit the ' +\n",
              "            '<a target=\"_blank\" href=https://colab.research.google.com/notebooks/data_table.ipynb>data table notebook</a>'\n",
              "            + ' to learn more about interactive tables.';\n",
              "          element.innerHTML = '';\n",
              "          dataTable['output_type'] = 'display_data';\n",
              "          await google.colab.output.renderOutput(dataTable, element);\n",
              "          const docLink = document.createElement('div');\n",
              "          docLink.innerHTML = docLinkHtml;\n",
              "          element.appendChild(docLink);\n",
              "        }\n",
              "      </script>\n",
              "    </div>\n",
              "  </div>\n",
              "  "
            ]
          },
          "metadata": {},
          "execution_count": 2
        }
      ]
    },
    {
      "cell_type": "code",
      "source": [
        "df['index']=df['year']"
      ],
      "metadata": {
        "id": "hW2oqJ_Bl33Q"
      },
      "execution_count": 3,
      "outputs": []
    },
    {
      "cell_type": "code",
      "source": [
        "df=df.drop(['index'],axis=1)\n",
        "df"
      ],
      "metadata": {
        "colab": {
          "base_uri": "https://localhost:8080/",
          "height": 485
        },
        "id": "CdBaInYfl97Y",
        "outputId": "3bdb84d6-364e-4d68-9e3e-d1082780af08"
      },
      "execution_count": 4,
      "outputs": [
        {
          "output_type": "execute_result",
          "data": {
            "text/plain": [
              "    Unnamed: 0  year  Para-1  Para-2  Para-3  Para-4  Para-5  Para-6  Para-7  \\\n",
              "0        Sec_1     1   324.0   354.5    17.0     0.0       3     117    2600   \n",
              "1          NaN     2   324.0   161.1    18.2     0.0       4     106    5950   \n",
              "2          NaN     3   324.0   170.7    18.5     0.0       4     110    5950   \n",
              "3          NaN     4   324.0   223.9    18.9     0.0       3     110    6150   \n",
              "4          NaN     5   324.0   228.2    18.4     0.0       2     113    6340   \n",
              "..         ...   ...     ...     ...     ...     ...     ...     ...     ...   \n",
              "995        NaN     6   454.0   931.8    13.6   125.0      13     116    4150   \n",
              "996        NaN     7   454.0   703.0    14.5    17.0      13     118    4150   \n",
              "997        NaN     8   454.0  1124.1    14.9    45.0      18     117    4200   \n",
              "998        NaN     9   454.0  1462.3    13.2    62.0      27     117    4400   \n",
              "999        NaN    10   454.0   986.3    14.3    67.0      24     122    4415   \n",
              "\n",
              "     Para-8  Para-9  Para-10  Para-11  Para-12  Para-13  \n",
              "0       400     0.0      0.0      0.0        0    1.520  \n",
              "1      1190     0.0      3.4      0.0        0    1.620  \n",
              "2      1190     0.0     21.3      0.0        4    1.680  \n",
              "3      1340     0.0     21.3      0.0        5    1.780  \n",
              "4      1450     0.0     23.9      0.0        7    1.800  \n",
              "..      ...     ...      ...      ...      ...      ...  \n",
              "995     830    15.1      1.8      1.0       15    1.681  \n",
              "996     830    24.6      7.9      2.0       15    1.838  \n",
              "997     840   119.0     15.7      2.0       16    1.862  \n",
              "998     720   138.2     30.5      6.0       18    1.883  \n",
              "999     721   293.0     39.8      7.0       18    1.889  \n",
              "\n",
              "[1000 rows x 15 columns]"
            ],
            "text/html": [
              "\n",
              "  <div id=\"df-01cfa46d-167f-44dd-86a5-95c6a7c1b848\">\n",
              "    <div class=\"colab-df-container\">\n",
              "      <div>\n",
              "<style scoped>\n",
              "    .dataframe tbody tr th:only-of-type {\n",
              "        vertical-align: middle;\n",
              "    }\n",
              "\n",
              "    .dataframe tbody tr th {\n",
              "        vertical-align: top;\n",
              "    }\n",
              "\n",
              "    .dataframe thead th {\n",
              "        text-align: right;\n",
              "    }\n",
              "</style>\n",
              "<table border=\"1\" class=\"dataframe\">\n",
              "  <thead>\n",
              "    <tr style=\"text-align: right;\">\n",
              "      <th></th>\n",
              "      <th>Unnamed: 0</th>\n",
              "      <th>year</th>\n",
              "      <th>Para-1</th>\n",
              "      <th>Para-2</th>\n",
              "      <th>Para-3</th>\n",
              "      <th>Para-4</th>\n",
              "      <th>Para-5</th>\n",
              "      <th>Para-6</th>\n",
              "      <th>Para-7</th>\n",
              "      <th>Para-8</th>\n",
              "      <th>Para-9</th>\n",
              "      <th>Para-10</th>\n",
              "      <th>Para-11</th>\n",
              "      <th>Para-12</th>\n",
              "      <th>Para-13</th>\n",
              "    </tr>\n",
              "  </thead>\n",
              "  <tbody>\n",
              "    <tr>\n",
              "      <th>0</th>\n",
              "      <td>Sec_1</td>\n",
              "      <td>1</td>\n",
              "      <td>324.0</td>\n",
              "      <td>354.5</td>\n",
              "      <td>17.0</td>\n",
              "      <td>0.0</td>\n",
              "      <td>3</td>\n",
              "      <td>117</td>\n",
              "      <td>2600</td>\n",
              "      <td>400</td>\n",
              "      <td>0.0</td>\n",
              "      <td>0.0</td>\n",
              "      <td>0.0</td>\n",
              "      <td>0</td>\n",
              "      <td>1.520</td>\n",
              "    </tr>\n",
              "    <tr>\n",
              "      <th>1</th>\n",
              "      <td>NaN</td>\n",
              "      <td>2</td>\n",
              "      <td>324.0</td>\n",
              "      <td>161.1</td>\n",
              "      <td>18.2</td>\n",
              "      <td>0.0</td>\n",
              "      <td>4</td>\n",
              "      <td>106</td>\n",
              "      <td>5950</td>\n",
              "      <td>1190</td>\n",
              "      <td>0.0</td>\n",
              "      <td>3.4</td>\n",
              "      <td>0.0</td>\n",
              "      <td>0</td>\n",
              "      <td>1.620</td>\n",
              "    </tr>\n",
              "    <tr>\n",
              "      <th>2</th>\n",
              "      <td>NaN</td>\n",
              "      <td>3</td>\n",
              "      <td>324.0</td>\n",
              "      <td>170.7</td>\n",
              "      <td>18.5</td>\n",
              "      <td>0.0</td>\n",
              "      <td>4</td>\n",
              "      <td>110</td>\n",
              "      <td>5950</td>\n",
              "      <td>1190</td>\n",
              "      <td>0.0</td>\n",
              "      <td>21.3</td>\n",
              "      <td>0.0</td>\n",
              "      <td>4</td>\n",
              "      <td>1.680</td>\n",
              "    </tr>\n",
              "    <tr>\n",
              "      <th>3</th>\n",
              "      <td>NaN</td>\n",
              "      <td>4</td>\n",
              "      <td>324.0</td>\n",
              "      <td>223.9</td>\n",
              "      <td>18.9</td>\n",
              "      <td>0.0</td>\n",
              "      <td>3</td>\n",
              "      <td>110</td>\n",
              "      <td>6150</td>\n",
              "      <td>1340</td>\n",
              "      <td>0.0</td>\n",
              "      <td>21.3</td>\n",
              "      <td>0.0</td>\n",
              "      <td>5</td>\n",
              "      <td>1.780</td>\n",
              "    </tr>\n",
              "    <tr>\n",
              "      <th>4</th>\n",
              "      <td>NaN</td>\n",
              "      <td>5</td>\n",
              "      <td>324.0</td>\n",
              "      <td>228.2</td>\n",
              "      <td>18.4</td>\n",
              "      <td>0.0</td>\n",
              "      <td>2</td>\n",
              "      <td>113</td>\n",
              "      <td>6340</td>\n",
              "      <td>1450</td>\n",
              "      <td>0.0</td>\n",
              "      <td>23.9</td>\n",
              "      <td>0.0</td>\n",
              "      <td>7</td>\n",
              "      <td>1.800</td>\n",
              "    </tr>\n",
              "    <tr>\n",
              "      <th>...</th>\n",
              "      <td>...</td>\n",
              "      <td>...</td>\n",
              "      <td>...</td>\n",
              "      <td>...</td>\n",
              "      <td>...</td>\n",
              "      <td>...</td>\n",
              "      <td>...</td>\n",
              "      <td>...</td>\n",
              "      <td>...</td>\n",
              "      <td>...</td>\n",
              "      <td>...</td>\n",
              "      <td>...</td>\n",
              "      <td>...</td>\n",
              "      <td>...</td>\n",
              "      <td>...</td>\n",
              "    </tr>\n",
              "    <tr>\n",
              "      <th>995</th>\n",
              "      <td>NaN</td>\n",
              "      <td>6</td>\n",
              "      <td>454.0</td>\n",
              "      <td>931.8</td>\n",
              "      <td>13.6</td>\n",
              "      <td>125.0</td>\n",
              "      <td>13</td>\n",
              "      <td>116</td>\n",
              "      <td>4150</td>\n",
              "      <td>830</td>\n",
              "      <td>15.1</td>\n",
              "      <td>1.8</td>\n",
              "      <td>1.0</td>\n",
              "      <td>15</td>\n",
              "      <td>1.681</td>\n",
              "    </tr>\n",
              "    <tr>\n",
              "      <th>996</th>\n",
              "      <td>NaN</td>\n",
              "      <td>7</td>\n",
              "      <td>454.0</td>\n",
              "      <td>703.0</td>\n",
              "      <td>14.5</td>\n",
              "      <td>17.0</td>\n",
              "      <td>13</td>\n",
              "      <td>118</td>\n",
              "      <td>4150</td>\n",
              "      <td>830</td>\n",
              "      <td>24.6</td>\n",
              "      <td>7.9</td>\n",
              "      <td>2.0</td>\n",
              "      <td>15</td>\n",
              "      <td>1.838</td>\n",
              "    </tr>\n",
              "    <tr>\n",
              "      <th>997</th>\n",
              "      <td>NaN</td>\n",
              "      <td>8</td>\n",
              "      <td>454.0</td>\n",
              "      <td>1124.1</td>\n",
              "      <td>14.9</td>\n",
              "      <td>45.0</td>\n",
              "      <td>18</td>\n",
              "      <td>117</td>\n",
              "      <td>4200</td>\n",
              "      <td>840</td>\n",
              "      <td>119.0</td>\n",
              "      <td>15.7</td>\n",
              "      <td>2.0</td>\n",
              "      <td>16</td>\n",
              "      <td>1.862</td>\n",
              "    </tr>\n",
              "    <tr>\n",
              "      <th>998</th>\n",
              "      <td>NaN</td>\n",
              "      <td>9</td>\n",
              "      <td>454.0</td>\n",
              "      <td>1462.3</td>\n",
              "      <td>13.2</td>\n",
              "      <td>62.0</td>\n",
              "      <td>27</td>\n",
              "      <td>117</td>\n",
              "      <td>4400</td>\n",
              "      <td>720</td>\n",
              "      <td>138.2</td>\n",
              "      <td>30.5</td>\n",
              "      <td>6.0</td>\n",
              "      <td>18</td>\n",
              "      <td>1.883</td>\n",
              "    </tr>\n",
              "    <tr>\n",
              "      <th>999</th>\n",
              "      <td>NaN</td>\n",
              "      <td>10</td>\n",
              "      <td>454.0</td>\n",
              "      <td>986.3</td>\n",
              "      <td>14.3</td>\n",
              "      <td>67.0</td>\n",
              "      <td>24</td>\n",
              "      <td>122</td>\n",
              "      <td>4415</td>\n",
              "      <td>721</td>\n",
              "      <td>293.0</td>\n",
              "      <td>39.8</td>\n",
              "      <td>7.0</td>\n",
              "      <td>18</td>\n",
              "      <td>1.889</td>\n",
              "    </tr>\n",
              "  </tbody>\n",
              "</table>\n",
              "<p>1000 rows × 15 columns</p>\n",
              "</div>\n",
              "      <button class=\"colab-df-convert\" onclick=\"convertToInteractive('df-01cfa46d-167f-44dd-86a5-95c6a7c1b848')\"\n",
              "              title=\"Convert this dataframe to an interactive table.\"\n",
              "              style=\"display:none;\">\n",
              "        \n",
              "  <svg xmlns=\"http://www.w3.org/2000/svg\" height=\"24px\"viewBox=\"0 0 24 24\"\n",
              "       width=\"24px\">\n",
              "    <path d=\"M0 0h24v24H0V0z\" fill=\"none\"/>\n",
              "    <path d=\"M18.56 5.44l.94 2.06.94-2.06 2.06-.94-2.06-.94-.94-2.06-.94 2.06-2.06.94zm-11 1L8.5 8.5l.94-2.06 2.06-.94-2.06-.94L8.5 2.5l-.94 2.06-2.06.94zm10 10l.94 2.06.94-2.06 2.06-.94-2.06-.94-.94-2.06-.94 2.06-2.06.94z\"/><path d=\"M17.41 7.96l-1.37-1.37c-.4-.4-.92-.59-1.43-.59-.52 0-1.04.2-1.43.59L10.3 9.45l-7.72 7.72c-.78.78-.78 2.05 0 2.83L4 21.41c.39.39.9.59 1.41.59.51 0 1.02-.2 1.41-.59l7.78-7.78 2.81-2.81c.8-.78.8-2.07 0-2.86zM5.41 20L4 18.59l7.72-7.72 1.47 1.35L5.41 20z\"/>\n",
              "  </svg>\n",
              "      </button>\n",
              "      \n",
              "  <style>\n",
              "    .colab-df-container {\n",
              "      display:flex;\n",
              "      flex-wrap:wrap;\n",
              "      gap: 12px;\n",
              "    }\n",
              "\n",
              "    .colab-df-convert {\n",
              "      background-color: #E8F0FE;\n",
              "      border: none;\n",
              "      border-radius: 50%;\n",
              "      cursor: pointer;\n",
              "      display: none;\n",
              "      fill: #1967D2;\n",
              "      height: 32px;\n",
              "      padding: 0 0 0 0;\n",
              "      width: 32px;\n",
              "    }\n",
              "\n",
              "    .colab-df-convert:hover {\n",
              "      background-color: #E2EBFA;\n",
              "      box-shadow: 0px 1px 2px rgba(60, 64, 67, 0.3), 0px 1px 3px 1px rgba(60, 64, 67, 0.15);\n",
              "      fill: #174EA6;\n",
              "    }\n",
              "\n",
              "    [theme=dark] .colab-df-convert {\n",
              "      background-color: #3B4455;\n",
              "      fill: #D2E3FC;\n",
              "    }\n",
              "\n",
              "    [theme=dark] .colab-df-convert:hover {\n",
              "      background-color: #434B5C;\n",
              "      box-shadow: 0px 1px 3px 1px rgba(0, 0, 0, 0.15);\n",
              "      filter: drop-shadow(0px 1px 2px rgba(0, 0, 0, 0.3));\n",
              "      fill: #FFFFFF;\n",
              "    }\n",
              "  </style>\n",
              "\n",
              "      <script>\n",
              "        const buttonEl =\n",
              "          document.querySelector('#df-01cfa46d-167f-44dd-86a5-95c6a7c1b848 button.colab-df-convert');\n",
              "        buttonEl.style.display =\n",
              "          google.colab.kernel.accessAllowed ? 'block' : 'none';\n",
              "\n",
              "        async function convertToInteractive(key) {\n",
              "          const element = document.querySelector('#df-01cfa46d-167f-44dd-86a5-95c6a7c1b848');\n",
              "          const dataTable =\n",
              "            await google.colab.kernel.invokeFunction('convertToInteractive',\n",
              "                                                     [key], {});\n",
              "          if (!dataTable) return;\n",
              "\n",
              "          const docLinkHtml = 'Like what you see? Visit the ' +\n",
              "            '<a target=\"_blank\" href=https://colab.research.google.com/notebooks/data_table.ipynb>data table notebook</a>'\n",
              "            + ' to learn more about interactive tables.';\n",
              "          element.innerHTML = '';\n",
              "          dataTable['output_type'] = 'display_data';\n",
              "          await google.colab.output.renderOutput(dataTable, element);\n",
              "          const docLink = document.createElement('div');\n",
              "          docLink.innerHTML = docLinkHtml;\n",
              "          element.appendChild(docLink);\n",
              "        }\n",
              "      </script>\n",
              "    </div>\n",
              "  </div>\n",
              "  "
            ]
          },
          "metadata": {},
          "execution_count": 4
        }
      ]
    },
    {
      "cell_type": "code",
      "source": [
        "cols = ['Unnamed: 0','Para-1', 'Para-2', 'Para-3','Para-4','Para-5','Para-6','Para-7','Para-8']\n",
        "df.drop(cols, axis=1, inplace= True)\n",
        "df"
      ],
      "metadata": {
        "colab": {
          "base_uri": "https://localhost:8080/",
          "height": 424
        },
        "id": "G1k2Nv8HmBEV",
        "outputId": "6ab1181a-655f-4d1b-9588-9d68d7eb16db"
      },
      "execution_count": 5,
      "outputs": [
        {
          "output_type": "execute_result",
          "data": {
            "text/plain": [
              "     year  Para-9  Para-10  Para-11  Para-12  Para-13\n",
              "0       1     0.0      0.0      0.0        0    1.520\n",
              "1       2     0.0      3.4      0.0        0    1.620\n",
              "2       3     0.0     21.3      0.0        4    1.680\n",
              "3       4     0.0     21.3      0.0        5    1.780\n",
              "4       5     0.0     23.9      0.0        7    1.800\n",
              "..    ...     ...      ...      ...      ...      ...\n",
              "995     6    15.1      1.8      1.0       15    1.681\n",
              "996     7    24.6      7.9      2.0       15    1.838\n",
              "997     8   119.0     15.7      2.0       16    1.862\n",
              "998     9   138.2     30.5      6.0       18    1.883\n",
              "999    10   293.0     39.8      7.0       18    1.889\n",
              "\n",
              "[1000 rows x 6 columns]"
            ],
            "text/html": [
              "\n",
              "  <div id=\"df-6d3288c0-9bee-4b66-826d-b7812f9314ea\">\n",
              "    <div class=\"colab-df-container\">\n",
              "      <div>\n",
              "<style scoped>\n",
              "    .dataframe tbody tr th:only-of-type {\n",
              "        vertical-align: middle;\n",
              "    }\n",
              "\n",
              "    .dataframe tbody tr th {\n",
              "        vertical-align: top;\n",
              "    }\n",
              "\n",
              "    .dataframe thead th {\n",
              "        text-align: right;\n",
              "    }\n",
              "</style>\n",
              "<table border=\"1\" class=\"dataframe\">\n",
              "  <thead>\n",
              "    <tr style=\"text-align: right;\">\n",
              "      <th></th>\n",
              "      <th>year</th>\n",
              "      <th>Para-9</th>\n",
              "      <th>Para-10</th>\n",
              "      <th>Para-11</th>\n",
              "      <th>Para-12</th>\n",
              "      <th>Para-13</th>\n",
              "    </tr>\n",
              "  </thead>\n",
              "  <tbody>\n",
              "    <tr>\n",
              "      <th>0</th>\n",
              "      <td>1</td>\n",
              "      <td>0.0</td>\n",
              "      <td>0.0</td>\n",
              "      <td>0.0</td>\n",
              "      <td>0</td>\n",
              "      <td>1.520</td>\n",
              "    </tr>\n",
              "    <tr>\n",
              "      <th>1</th>\n",
              "      <td>2</td>\n",
              "      <td>0.0</td>\n",
              "      <td>3.4</td>\n",
              "      <td>0.0</td>\n",
              "      <td>0</td>\n",
              "      <td>1.620</td>\n",
              "    </tr>\n",
              "    <tr>\n",
              "      <th>2</th>\n",
              "      <td>3</td>\n",
              "      <td>0.0</td>\n",
              "      <td>21.3</td>\n",
              "      <td>0.0</td>\n",
              "      <td>4</td>\n",
              "      <td>1.680</td>\n",
              "    </tr>\n",
              "    <tr>\n",
              "      <th>3</th>\n",
              "      <td>4</td>\n",
              "      <td>0.0</td>\n",
              "      <td>21.3</td>\n",
              "      <td>0.0</td>\n",
              "      <td>5</td>\n",
              "      <td>1.780</td>\n",
              "    </tr>\n",
              "    <tr>\n",
              "      <th>4</th>\n",
              "      <td>5</td>\n",
              "      <td>0.0</td>\n",
              "      <td>23.9</td>\n",
              "      <td>0.0</td>\n",
              "      <td>7</td>\n",
              "      <td>1.800</td>\n",
              "    </tr>\n",
              "    <tr>\n",
              "      <th>...</th>\n",
              "      <td>...</td>\n",
              "      <td>...</td>\n",
              "      <td>...</td>\n",
              "      <td>...</td>\n",
              "      <td>...</td>\n",
              "      <td>...</td>\n",
              "    </tr>\n",
              "    <tr>\n",
              "      <th>995</th>\n",
              "      <td>6</td>\n",
              "      <td>15.1</td>\n",
              "      <td>1.8</td>\n",
              "      <td>1.0</td>\n",
              "      <td>15</td>\n",
              "      <td>1.681</td>\n",
              "    </tr>\n",
              "    <tr>\n",
              "      <th>996</th>\n",
              "      <td>7</td>\n",
              "      <td>24.6</td>\n",
              "      <td>7.9</td>\n",
              "      <td>2.0</td>\n",
              "      <td>15</td>\n",
              "      <td>1.838</td>\n",
              "    </tr>\n",
              "    <tr>\n",
              "      <th>997</th>\n",
              "      <td>8</td>\n",
              "      <td>119.0</td>\n",
              "      <td>15.7</td>\n",
              "      <td>2.0</td>\n",
              "      <td>16</td>\n",
              "      <td>1.862</td>\n",
              "    </tr>\n",
              "    <tr>\n",
              "      <th>998</th>\n",
              "      <td>9</td>\n",
              "      <td>138.2</td>\n",
              "      <td>30.5</td>\n",
              "      <td>6.0</td>\n",
              "      <td>18</td>\n",
              "      <td>1.883</td>\n",
              "    </tr>\n",
              "    <tr>\n",
              "      <th>999</th>\n",
              "      <td>10</td>\n",
              "      <td>293.0</td>\n",
              "      <td>39.8</td>\n",
              "      <td>7.0</td>\n",
              "      <td>18</td>\n",
              "      <td>1.889</td>\n",
              "    </tr>\n",
              "  </tbody>\n",
              "</table>\n",
              "<p>1000 rows × 6 columns</p>\n",
              "</div>\n",
              "      <button class=\"colab-df-convert\" onclick=\"convertToInteractive('df-6d3288c0-9bee-4b66-826d-b7812f9314ea')\"\n",
              "              title=\"Convert this dataframe to an interactive table.\"\n",
              "              style=\"display:none;\">\n",
              "        \n",
              "  <svg xmlns=\"http://www.w3.org/2000/svg\" height=\"24px\"viewBox=\"0 0 24 24\"\n",
              "       width=\"24px\">\n",
              "    <path d=\"M0 0h24v24H0V0z\" fill=\"none\"/>\n",
              "    <path d=\"M18.56 5.44l.94 2.06.94-2.06 2.06-.94-2.06-.94-.94-2.06-.94 2.06-2.06.94zm-11 1L8.5 8.5l.94-2.06 2.06-.94-2.06-.94L8.5 2.5l-.94 2.06-2.06.94zm10 10l.94 2.06.94-2.06 2.06-.94-2.06-.94-.94-2.06-.94 2.06-2.06.94z\"/><path d=\"M17.41 7.96l-1.37-1.37c-.4-.4-.92-.59-1.43-.59-.52 0-1.04.2-1.43.59L10.3 9.45l-7.72 7.72c-.78.78-.78 2.05 0 2.83L4 21.41c.39.39.9.59 1.41.59.51 0 1.02-.2 1.41-.59l7.78-7.78 2.81-2.81c.8-.78.8-2.07 0-2.86zM5.41 20L4 18.59l7.72-7.72 1.47 1.35L5.41 20z\"/>\n",
              "  </svg>\n",
              "      </button>\n",
              "      \n",
              "  <style>\n",
              "    .colab-df-container {\n",
              "      display:flex;\n",
              "      flex-wrap:wrap;\n",
              "      gap: 12px;\n",
              "    }\n",
              "\n",
              "    .colab-df-convert {\n",
              "      background-color: #E8F0FE;\n",
              "      border: none;\n",
              "      border-radius: 50%;\n",
              "      cursor: pointer;\n",
              "      display: none;\n",
              "      fill: #1967D2;\n",
              "      height: 32px;\n",
              "      padding: 0 0 0 0;\n",
              "      width: 32px;\n",
              "    }\n",
              "\n",
              "    .colab-df-convert:hover {\n",
              "      background-color: #E2EBFA;\n",
              "      box-shadow: 0px 1px 2px rgba(60, 64, 67, 0.3), 0px 1px 3px 1px rgba(60, 64, 67, 0.15);\n",
              "      fill: #174EA6;\n",
              "    }\n",
              "\n",
              "    [theme=dark] .colab-df-convert {\n",
              "      background-color: #3B4455;\n",
              "      fill: #D2E3FC;\n",
              "    }\n",
              "\n",
              "    [theme=dark] .colab-df-convert:hover {\n",
              "      background-color: #434B5C;\n",
              "      box-shadow: 0px 1px 3px 1px rgba(0, 0, 0, 0.15);\n",
              "      filter: drop-shadow(0px 1px 2px rgba(0, 0, 0, 0.3));\n",
              "      fill: #FFFFFF;\n",
              "    }\n",
              "  </style>\n",
              "\n",
              "      <script>\n",
              "        const buttonEl =\n",
              "          document.querySelector('#df-6d3288c0-9bee-4b66-826d-b7812f9314ea button.colab-df-convert');\n",
              "        buttonEl.style.display =\n",
              "          google.colab.kernel.accessAllowed ? 'block' : 'none';\n",
              "\n",
              "        async function convertToInteractive(key) {\n",
              "          const element = document.querySelector('#df-6d3288c0-9bee-4b66-826d-b7812f9314ea');\n",
              "          const dataTable =\n",
              "            await google.colab.kernel.invokeFunction('convertToInteractive',\n",
              "                                                     [key], {});\n",
              "          if (!dataTable) return;\n",
              "\n",
              "          const docLinkHtml = 'Like what you see? Visit the ' +\n",
              "            '<a target=\"_blank\" href=https://colab.research.google.com/notebooks/data_table.ipynb>data table notebook</a>'\n",
              "            + ' to learn more about interactive tables.';\n",
              "          element.innerHTML = '';\n",
              "          dataTable['output_type'] = 'display_data';\n",
              "          await google.colab.output.renderOutput(dataTable, element);\n",
              "          const docLink = document.createElement('div');\n",
              "          docLink.innerHTML = docLinkHtml;\n",
              "          element.appendChild(docLink);\n",
              "        }\n",
              "      </script>\n",
              "    </div>\n",
              "  </div>\n",
              "  "
            ]
          },
          "metadata": {},
          "execution_count": 5
        }
      ]
    },
    {
      "cell_type": "code",
      "source": [
        "train = df[df['year'] < 10]\n",
        "test = df[df['year'] >=10]"
      ],
      "metadata": {
        "id": "z8NaIiZ4mGQc"
      },
      "execution_count": 6,
      "outputs": []
    },
    {
      "cell_type": "code",
      "source": [
        "train"
      ],
      "metadata": {
        "colab": {
          "base_uri": "https://localhost:8080/",
          "height": 424
        },
        "id": "ee9pgKeOmJvw",
        "outputId": "3e93b023-4542-4f69-a3a2-47b165f27a3e"
      },
      "execution_count": 7,
      "outputs": [
        {
          "output_type": "execute_result",
          "data": {
            "text/plain": [
              "     year  Para-9  Para-10  Para-11  Para-12  Para-13\n",
              "0       1     0.0      0.0      0.0        0    1.520\n",
              "1       2     0.0      3.4      0.0        0    1.620\n",
              "2       3     0.0     21.3      0.0        4    1.680\n",
              "3       4     0.0     21.3      0.0        5    1.780\n",
              "4       5     0.0     23.9      0.0        7    1.800\n",
              "..    ...     ...      ...      ...      ...      ...\n",
              "994     5    19.0      0.0      0.0       15    1.654\n",
              "995     6    15.1      1.8      1.0       15    1.681\n",
              "996     7    24.6      7.9      2.0       15    1.838\n",
              "997     8   119.0     15.7      2.0       16    1.862\n",
              "998     9   138.2     30.5      6.0       18    1.883\n",
              "\n",
              "[900 rows x 6 columns]"
            ],
            "text/html": [
              "\n",
              "  <div id=\"df-0c540d1b-abe7-4c09-8a22-4051ad8067f4\">\n",
              "    <div class=\"colab-df-container\">\n",
              "      <div>\n",
              "<style scoped>\n",
              "    .dataframe tbody tr th:only-of-type {\n",
              "        vertical-align: middle;\n",
              "    }\n",
              "\n",
              "    .dataframe tbody tr th {\n",
              "        vertical-align: top;\n",
              "    }\n",
              "\n",
              "    .dataframe thead th {\n",
              "        text-align: right;\n",
              "    }\n",
              "</style>\n",
              "<table border=\"1\" class=\"dataframe\">\n",
              "  <thead>\n",
              "    <tr style=\"text-align: right;\">\n",
              "      <th></th>\n",
              "      <th>year</th>\n",
              "      <th>Para-9</th>\n",
              "      <th>Para-10</th>\n",
              "      <th>Para-11</th>\n",
              "      <th>Para-12</th>\n",
              "      <th>Para-13</th>\n",
              "    </tr>\n",
              "  </thead>\n",
              "  <tbody>\n",
              "    <tr>\n",
              "      <th>0</th>\n",
              "      <td>1</td>\n",
              "      <td>0.0</td>\n",
              "      <td>0.0</td>\n",
              "      <td>0.0</td>\n",
              "      <td>0</td>\n",
              "      <td>1.520</td>\n",
              "    </tr>\n",
              "    <tr>\n",
              "      <th>1</th>\n",
              "      <td>2</td>\n",
              "      <td>0.0</td>\n",
              "      <td>3.4</td>\n",
              "      <td>0.0</td>\n",
              "      <td>0</td>\n",
              "      <td>1.620</td>\n",
              "    </tr>\n",
              "    <tr>\n",
              "      <th>2</th>\n",
              "      <td>3</td>\n",
              "      <td>0.0</td>\n",
              "      <td>21.3</td>\n",
              "      <td>0.0</td>\n",
              "      <td>4</td>\n",
              "      <td>1.680</td>\n",
              "    </tr>\n",
              "    <tr>\n",
              "      <th>3</th>\n",
              "      <td>4</td>\n",
              "      <td>0.0</td>\n",
              "      <td>21.3</td>\n",
              "      <td>0.0</td>\n",
              "      <td>5</td>\n",
              "      <td>1.780</td>\n",
              "    </tr>\n",
              "    <tr>\n",
              "      <th>4</th>\n",
              "      <td>5</td>\n",
              "      <td>0.0</td>\n",
              "      <td>23.9</td>\n",
              "      <td>0.0</td>\n",
              "      <td>7</td>\n",
              "      <td>1.800</td>\n",
              "    </tr>\n",
              "    <tr>\n",
              "      <th>...</th>\n",
              "      <td>...</td>\n",
              "      <td>...</td>\n",
              "      <td>...</td>\n",
              "      <td>...</td>\n",
              "      <td>...</td>\n",
              "      <td>...</td>\n",
              "    </tr>\n",
              "    <tr>\n",
              "      <th>994</th>\n",
              "      <td>5</td>\n",
              "      <td>19.0</td>\n",
              "      <td>0.0</td>\n",
              "      <td>0.0</td>\n",
              "      <td>15</td>\n",
              "      <td>1.654</td>\n",
              "    </tr>\n",
              "    <tr>\n",
              "      <th>995</th>\n",
              "      <td>6</td>\n",
              "      <td>15.1</td>\n",
              "      <td>1.8</td>\n",
              "      <td>1.0</td>\n",
              "      <td>15</td>\n",
              "      <td>1.681</td>\n",
              "    </tr>\n",
              "    <tr>\n",
              "      <th>996</th>\n",
              "      <td>7</td>\n",
              "      <td>24.6</td>\n",
              "      <td>7.9</td>\n",
              "      <td>2.0</td>\n",
              "      <td>15</td>\n",
              "      <td>1.838</td>\n",
              "    </tr>\n",
              "    <tr>\n",
              "      <th>997</th>\n",
              "      <td>8</td>\n",
              "      <td>119.0</td>\n",
              "      <td>15.7</td>\n",
              "      <td>2.0</td>\n",
              "      <td>16</td>\n",
              "      <td>1.862</td>\n",
              "    </tr>\n",
              "    <tr>\n",
              "      <th>998</th>\n",
              "      <td>9</td>\n",
              "      <td>138.2</td>\n",
              "      <td>30.5</td>\n",
              "      <td>6.0</td>\n",
              "      <td>18</td>\n",
              "      <td>1.883</td>\n",
              "    </tr>\n",
              "  </tbody>\n",
              "</table>\n",
              "<p>900 rows × 6 columns</p>\n",
              "</div>\n",
              "      <button class=\"colab-df-convert\" onclick=\"convertToInteractive('df-0c540d1b-abe7-4c09-8a22-4051ad8067f4')\"\n",
              "              title=\"Convert this dataframe to an interactive table.\"\n",
              "              style=\"display:none;\">\n",
              "        \n",
              "  <svg xmlns=\"http://www.w3.org/2000/svg\" height=\"24px\"viewBox=\"0 0 24 24\"\n",
              "       width=\"24px\">\n",
              "    <path d=\"M0 0h24v24H0V0z\" fill=\"none\"/>\n",
              "    <path d=\"M18.56 5.44l.94 2.06.94-2.06 2.06-.94-2.06-.94-.94-2.06-.94 2.06-2.06.94zm-11 1L8.5 8.5l.94-2.06 2.06-.94-2.06-.94L8.5 2.5l-.94 2.06-2.06.94zm10 10l.94 2.06.94-2.06 2.06-.94-2.06-.94-.94-2.06-.94 2.06-2.06.94z\"/><path d=\"M17.41 7.96l-1.37-1.37c-.4-.4-.92-.59-1.43-.59-.52 0-1.04.2-1.43.59L10.3 9.45l-7.72 7.72c-.78.78-.78 2.05 0 2.83L4 21.41c.39.39.9.59 1.41.59.51 0 1.02-.2 1.41-.59l7.78-7.78 2.81-2.81c.8-.78.8-2.07 0-2.86zM5.41 20L4 18.59l7.72-7.72 1.47 1.35L5.41 20z\"/>\n",
              "  </svg>\n",
              "      </button>\n",
              "      \n",
              "  <style>\n",
              "    .colab-df-container {\n",
              "      display:flex;\n",
              "      flex-wrap:wrap;\n",
              "      gap: 12px;\n",
              "    }\n",
              "\n",
              "    .colab-df-convert {\n",
              "      background-color: #E8F0FE;\n",
              "      border: none;\n",
              "      border-radius: 50%;\n",
              "      cursor: pointer;\n",
              "      display: none;\n",
              "      fill: #1967D2;\n",
              "      height: 32px;\n",
              "      padding: 0 0 0 0;\n",
              "      width: 32px;\n",
              "    }\n",
              "\n",
              "    .colab-df-convert:hover {\n",
              "      background-color: #E2EBFA;\n",
              "      box-shadow: 0px 1px 2px rgba(60, 64, 67, 0.3), 0px 1px 3px 1px rgba(60, 64, 67, 0.15);\n",
              "      fill: #174EA6;\n",
              "    }\n",
              "\n",
              "    [theme=dark] .colab-df-convert {\n",
              "      background-color: #3B4455;\n",
              "      fill: #D2E3FC;\n",
              "    }\n",
              "\n",
              "    [theme=dark] .colab-df-convert:hover {\n",
              "      background-color: #434B5C;\n",
              "      box-shadow: 0px 1px 3px 1px rgba(0, 0, 0, 0.15);\n",
              "      filter: drop-shadow(0px 1px 2px rgba(0, 0, 0, 0.3));\n",
              "      fill: #FFFFFF;\n",
              "    }\n",
              "  </style>\n",
              "\n",
              "      <script>\n",
              "        const buttonEl =\n",
              "          document.querySelector('#df-0c540d1b-abe7-4c09-8a22-4051ad8067f4 button.colab-df-convert');\n",
              "        buttonEl.style.display =\n",
              "          google.colab.kernel.accessAllowed ? 'block' : 'none';\n",
              "\n",
              "        async function convertToInteractive(key) {\n",
              "          const element = document.querySelector('#df-0c540d1b-abe7-4c09-8a22-4051ad8067f4');\n",
              "          const dataTable =\n",
              "            await google.colab.kernel.invokeFunction('convertToInteractive',\n",
              "                                                     [key], {});\n",
              "          if (!dataTable) return;\n",
              "\n",
              "          const docLinkHtml = 'Like what you see? Visit the ' +\n",
              "            '<a target=\"_blank\" href=https://colab.research.google.com/notebooks/data_table.ipynb>data table notebook</a>'\n",
              "            + ' to learn more about interactive tables.';\n",
              "          element.innerHTML = '';\n",
              "          dataTable['output_type'] = 'display_data';\n",
              "          await google.colab.output.renderOutput(dataTable, element);\n",
              "          const docLink = document.createElement('div');\n",
              "          docLink.innerHTML = docLinkHtml;\n",
              "          element.appendChild(docLink);\n",
              "        }\n",
              "      </script>\n",
              "    </div>\n",
              "  </div>\n",
              "  "
            ]
          },
          "metadata": {},
          "execution_count": 7
        }
      ]
    },
    {
      "cell_type": "code",
      "source": [
        "test"
      ],
      "metadata": {
        "colab": {
          "base_uri": "https://localhost:8080/",
          "height": 424
        },
        "id": "Sj_G1wp9mNbF",
        "outputId": "26c356c3-0830-4644-cc91-47d6edf26bbc"
      },
      "execution_count": 8,
      "outputs": [
        {
          "output_type": "execute_result",
          "data": {
            "text/plain": [
              "     year  Para-9  Para-10  Para-11  Para-12  Para-13\n",
              "9      10    16.8    105.0     65.0        9    1.960\n",
              "19     10    76.5     44.3      5.0        9    0.795\n",
              "29     10    78.5      0.0      0.0       16    1.432\n",
              "39     10    28.5     60.5     67.0       11    2.004\n",
              "49     10     0.0    276.2     34.0        6    1.792\n",
              "..    ...     ...      ...      ...      ...      ...\n",
              "959    10   219.7    206.2     10.0        8    1.607\n",
              "969    10     5.9     74.5     33.0       13    1.087\n",
              "979    10   131.4     72.4     18.0       12    0.996\n",
              "989    10   193.7    305.6    180.0       12    2.212\n",
              "999    10   293.0     39.8      7.0       18    1.889\n",
              "\n",
              "[100 rows x 6 columns]"
            ],
            "text/html": [
              "\n",
              "  <div id=\"df-d6a6d7ae-5254-4188-98e8-f54cff8dc261\">\n",
              "    <div class=\"colab-df-container\">\n",
              "      <div>\n",
              "<style scoped>\n",
              "    .dataframe tbody tr th:only-of-type {\n",
              "        vertical-align: middle;\n",
              "    }\n",
              "\n",
              "    .dataframe tbody tr th {\n",
              "        vertical-align: top;\n",
              "    }\n",
              "\n",
              "    .dataframe thead th {\n",
              "        text-align: right;\n",
              "    }\n",
              "</style>\n",
              "<table border=\"1\" class=\"dataframe\">\n",
              "  <thead>\n",
              "    <tr style=\"text-align: right;\">\n",
              "      <th></th>\n",
              "      <th>year</th>\n",
              "      <th>Para-9</th>\n",
              "      <th>Para-10</th>\n",
              "      <th>Para-11</th>\n",
              "      <th>Para-12</th>\n",
              "      <th>Para-13</th>\n",
              "    </tr>\n",
              "  </thead>\n",
              "  <tbody>\n",
              "    <tr>\n",
              "      <th>9</th>\n",
              "      <td>10</td>\n",
              "      <td>16.8</td>\n",
              "      <td>105.0</td>\n",
              "      <td>65.0</td>\n",
              "      <td>9</td>\n",
              "      <td>1.960</td>\n",
              "    </tr>\n",
              "    <tr>\n",
              "      <th>19</th>\n",
              "      <td>10</td>\n",
              "      <td>76.5</td>\n",
              "      <td>44.3</td>\n",
              "      <td>5.0</td>\n",
              "      <td>9</td>\n",
              "      <td>0.795</td>\n",
              "    </tr>\n",
              "    <tr>\n",
              "      <th>29</th>\n",
              "      <td>10</td>\n",
              "      <td>78.5</td>\n",
              "      <td>0.0</td>\n",
              "      <td>0.0</td>\n",
              "      <td>16</td>\n",
              "      <td>1.432</td>\n",
              "    </tr>\n",
              "    <tr>\n",
              "      <th>39</th>\n",
              "      <td>10</td>\n",
              "      <td>28.5</td>\n",
              "      <td>60.5</td>\n",
              "      <td>67.0</td>\n",
              "      <td>11</td>\n",
              "      <td>2.004</td>\n",
              "    </tr>\n",
              "    <tr>\n",
              "      <th>49</th>\n",
              "      <td>10</td>\n",
              "      <td>0.0</td>\n",
              "      <td>276.2</td>\n",
              "      <td>34.0</td>\n",
              "      <td>6</td>\n",
              "      <td>1.792</td>\n",
              "    </tr>\n",
              "    <tr>\n",
              "      <th>...</th>\n",
              "      <td>...</td>\n",
              "      <td>...</td>\n",
              "      <td>...</td>\n",
              "      <td>...</td>\n",
              "      <td>...</td>\n",
              "      <td>...</td>\n",
              "    </tr>\n",
              "    <tr>\n",
              "      <th>959</th>\n",
              "      <td>10</td>\n",
              "      <td>219.7</td>\n",
              "      <td>206.2</td>\n",
              "      <td>10.0</td>\n",
              "      <td>8</td>\n",
              "      <td>1.607</td>\n",
              "    </tr>\n",
              "    <tr>\n",
              "      <th>969</th>\n",
              "      <td>10</td>\n",
              "      <td>5.9</td>\n",
              "      <td>74.5</td>\n",
              "      <td>33.0</td>\n",
              "      <td>13</td>\n",
              "      <td>1.087</td>\n",
              "    </tr>\n",
              "    <tr>\n",
              "      <th>979</th>\n",
              "      <td>10</td>\n",
              "      <td>131.4</td>\n",
              "      <td>72.4</td>\n",
              "      <td>18.0</td>\n",
              "      <td>12</td>\n",
              "      <td>0.996</td>\n",
              "    </tr>\n",
              "    <tr>\n",
              "      <th>989</th>\n",
              "      <td>10</td>\n",
              "      <td>193.7</td>\n",
              "      <td>305.6</td>\n",
              "      <td>180.0</td>\n",
              "      <td>12</td>\n",
              "      <td>2.212</td>\n",
              "    </tr>\n",
              "    <tr>\n",
              "      <th>999</th>\n",
              "      <td>10</td>\n",
              "      <td>293.0</td>\n",
              "      <td>39.8</td>\n",
              "      <td>7.0</td>\n",
              "      <td>18</td>\n",
              "      <td>1.889</td>\n",
              "    </tr>\n",
              "  </tbody>\n",
              "</table>\n",
              "<p>100 rows × 6 columns</p>\n",
              "</div>\n",
              "      <button class=\"colab-df-convert\" onclick=\"convertToInteractive('df-d6a6d7ae-5254-4188-98e8-f54cff8dc261')\"\n",
              "              title=\"Convert this dataframe to an interactive table.\"\n",
              "              style=\"display:none;\">\n",
              "        \n",
              "  <svg xmlns=\"http://www.w3.org/2000/svg\" height=\"24px\"viewBox=\"0 0 24 24\"\n",
              "       width=\"24px\">\n",
              "    <path d=\"M0 0h24v24H0V0z\" fill=\"none\"/>\n",
              "    <path d=\"M18.56 5.44l.94 2.06.94-2.06 2.06-.94-2.06-.94-.94-2.06-.94 2.06-2.06.94zm-11 1L8.5 8.5l.94-2.06 2.06-.94-2.06-.94L8.5 2.5l-.94 2.06-2.06.94zm10 10l.94 2.06.94-2.06 2.06-.94-2.06-.94-.94-2.06-.94 2.06-2.06.94z\"/><path d=\"M17.41 7.96l-1.37-1.37c-.4-.4-.92-.59-1.43-.59-.52 0-1.04.2-1.43.59L10.3 9.45l-7.72 7.72c-.78.78-.78 2.05 0 2.83L4 21.41c.39.39.9.59 1.41.59.51 0 1.02-.2 1.41-.59l7.78-7.78 2.81-2.81c.8-.78.8-2.07 0-2.86zM5.41 20L4 18.59l7.72-7.72 1.47 1.35L5.41 20z\"/>\n",
              "  </svg>\n",
              "      </button>\n",
              "      \n",
              "  <style>\n",
              "    .colab-df-container {\n",
              "      display:flex;\n",
              "      flex-wrap:wrap;\n",
              "      gap: 12px;\n",
              "    }\n",
              "\n",
              "    .colab-df-convert {\n",
              "      background-color: #E8F0FE;\n",
              "      border: none;\n",
              "      border-radius: 50%;\n",
              "      cursor: pointer;\n",
              "      display: none;\n",
              "      fill: #1967D2;\n",
              "      height: 32px;\n",
              "      padding: 0 0 0 0;\n",
              "      width: 32px;\n",
              "    }\n",
              "\n",
              "    .colab-df-convert:hover {\n",
              "      background-color: #E2EBFA;\n",
              "      box-shadow: 0px 1px 2px rgba(60, 64, 67, 0.3), 0px 1px 3px 1px rgba(60, 64, 67, 0.15);\n",
              "      fill: #174EA6;\n",
              "    }\n",
              "\n",
              "    [theme=dark] .colab-df-convert {\n",
              "      background-color: #3B4455;\n",
              "      fill: #D2E3FC;\n",
              "    }\n",
              "\n",
              "    [theme=dark] .colab-df-convert:hover {\n",
              "      background-color: #434B5C;\n",
              "      box-shadow: 0px 1px 3px 1px rgba(0, 0, 0, 0.15);\n",
              "      filter: drop-shadow(0px 1px 2px rgba(0, 0, 0, 0.3));\n",
              "      fill: #FFFFFF;\n",
              "    }\n",
              "  </style>\n",
              "\n",
              "      <script>\n",
              "        const buttonEl =\n",
              "          document.querySelector('#df-d6a6d7ae-5254-4188-98e8-f54cff8dc261 button.colab-df-convert');\n",
              "        buttonEl.style.display =\n",
              "          google.colab.kernel.accessAllowed ? 'block' : 'none';\n",
              "\n",
              "        async function convertToInteractive(key) {\n",
              "          const element = document.querySelector('#df-d6a6d7ae-5254-4188-98e8-f54cff8dc261');\n",
              "          const dataTable =\n",
              "            await google.colab.kernel.invokeFunction('convertToInteractive',\n",
              "                                                     [key], {});\n",
              "          if (!dataTable) return;\n",
              "\n",
              "          const docLinkHtml = 'Like what you see? Visit the ' +\n",
              "            '<a target=\"_blank\" href=https://colab.research.google.com/notebooks/data_table.ipynb>data table notebook</a>'\n",
              "            + ' to learn more about interactive tables.';\n",
              "          element.innerHTML = '';\n",
              "          dataTable['output_type'] = 'display_data';\n",
              "          await google.colab.output.renderOutput(dataTable, element);\n",
              "          const docLink = document.createElement('div');\n",
              "          docLink.innerHTML = docLinkHtml;\n",
              "          element.appendChild(docLink);\n",
              "        }\n",
              "      </script>\n",
              "    </div>\n",
              "  </div>\n",
              "  "
            ]
          },
          "metadata": {},
          "execution_count": 8
        }
      ]
    },
    {
      "cell_type": "code",
      "source": [
        "##ARMA model using the SARIMAX package\n",
        "from statsmodels.tsa.statespace.sarimax import SARIMAX"
      ],
      "metadata": {
        "id": "d5MP3zq9mQ86"
      },
      "execution_count": 9,
      "outputs": []
    },
    {
      "cell_type": "code",
      "source": [
        "y = train['Para-9']\n",
        "ARMAmodel = SARIMAX(y, order = (3, 2, 2))\n",
        "ARMAmodel = ARMAmodel.fit()\n",
        "y_pred = ARMAmodel.get_forecast(len(test['Para-9']))\n",
        "y_pred_df1 = y_pred.conf_int(alpha = 0.05) \n",
        "y_pred_df1[\"Predictions\"] = ARMAmodel.predict(start = y_pred_df1.index[0], end = y_pred_df1.index[-1])\n",
        "y_pred_df1.index = test.index\n",
        "y_pred_out1 = y_pred_df1[\"Predictions\"] \n",
        "y_pred_out1"
      ],
      "metadata": {
        "colab": {
          "base_uri": "https://localhost:8080/"
        },
        "id": "Ax7qpekRmfa-",
        "outputId": "1d28ad98-a67c-4fd1-b731-c0e8401fb44a"
      },
      "execution_count": 16,
      "outputs": [
        {
          "output_type": "stream",
          "name": "stderr",
          "text": [
            "/usr/local/lib/python3.7/dist-packages/statsmodels/tsa/base/tsa_model.py:579: ValueWarning: An unsupported index was provided and will be ignored when e.g. forecasting.\n",
            "  ' ignored when e.g. forecasting.', ValueWarning)\n",
            "/usr/local/lib/python3.7/dist-packages/statsmodels/tsa/base/tsa_model.py:579: ValueWarning: An unsupported index was provided and will be ignored when e.g. forecasting.\n",
            "  ' ignored when e.g. forecasting.', ValueWarning)\n",
            "/usr/local/lib/python3.7/dist-packages/statsmodels/tsa/base/tsa_model.py:379: ValueWarning: No supported index is available. Prediction results will be given with an integer index beginning at `start`.\n",
            "  ValueWarning)\n",
            "/usr/local/lib/python3.7/dist-packages/statsmodels/tsa/base/tsa_model.py:379: ValueWarning: No supported index is available. Prediction results will be given with an integer index beginning at `start`.\n",
            "  ValueWarning)\n"
          ]
        },
        {
          "output_type": "execute_result",
          "data": {
            "text/plain": [
              "9      130.738540\n",
              "19     129.114478\n",
              "29     130.523016\n",
              "39     130.176684\n",
              "49     130.800505\n",
              "          ...    \n",
              "959    143.628883\n",
              "969    143.811595\n",
              "979    143.918121\n",
              "989    144.098684\n",
              "999    144.207299\n",
              "Name: Predictions, Length: 100, dtype: float64"
            ]
          },
          "metadata": {},
          "execution_count": 16
        }
      ]
    },
    {
      "cell_type": "code",
      "source": [
        "y = train['Para-10']\n",
        "ARMAmodel = SARIMAX(y, order = (2,1,1))\n",
        "ARMAmodel = ARMAmodel.fit()\n",
        "y_pred = ARMAmodel.get_forecast(len(test['Para-10']))\n",
        "y_pred_df2 = y_pred.conf_int(alpha = 0.05) \n",
        "y_pred_df2[\"Predictions\"] = ARMAmodel.predict(start = y_pred_df2.index[0], end = y_pred_df2.index[-1])\n",
        "y_pred_df2.index = test.index\n",
        "y_pred_out2 = y_pred_df2[\"Predictions\"] \n",
        "y_pred_out2"
      ],
      "metadata": {
        "colab": {
          "base_uri": "https://localhost:8080/"
        },
        "id": "aYjE9fExmuGL",
        "outputId": "d5267bf5-d461-43e9-ba92-ad5c9a249bf1"
      },
      "execution_count": 24,
      "outputs": [
        {
          "output_type": "stream",
          "name": "stderr",
          "text": [
            "/usr/local/lib/python3.7/dist-packages/statsmodels/tsa/base/tsa_model.py:579: ValueWarning: An unsupported index was provided and will be ignored when e.g. forecasting.\n",
            "  ' ignored when e.g. forecasting.', ValueWarning)\n",
            "/usr/local/lib/python3.7/dist-packages/statsmodels/tsa/base/tsa_model.py:579: ValueWarning: An unsupported index was provided and will be ignored when e.g. forecasting.\n",
            "  ' ignored when e.g. forecasting.', ValueWarning)\n",
            "/usr/local/lib/python3.7/dist-packages/statsmodels/tsa/base/tsa_model.py:379: ValueWarning: No supported index is available. Prediction results will be given with an integer index beginning at `start`.\n",
            "  ValueWarning)\n",
            "/usr/local/lib/python3.7/dist-packages/statsmodels/tsa/base/tsa_model.py:379: ValueWarning: No supported index is available. Prediction results will be given with an integer index beginning at `start`.\n",
            "  ValueWarning)\n"
          ]
        },
        {
          "output_type": "execute_result",
          "data": {
            "text/plain": [
              "9      42.644347\n",
              "19     51.917847\n",
              "29     58.946680\n",
              "39     64.269894\n",
              "49     68.301025\n",
              "         ...    \n",
              "959    80.877081\n",
              "969    80.877081\n",
              "979    80.877081\n",
              "989    80.877081\n",
              "999    80.877081\n",
              "Name: Predictions, Length: 100, dtype: float64"
            ]
          },
          "metadata": {},
          "execution_count": 24
        }
      ]
    },
    {
      "cell_type": "code",
      "source": [
        "y = train['Para-11']\n",
        "ARMAmodel = SARIMAX(y, order = (1, 1, 1))\n",
        "ARMAmodel = ARMAmodel.fit()\n",
        "y_pred = ARMAmodel.get_forecast(len(test['Para-11']))\n",
        "y_pred_df3 = y_pred.conf_int(alpha = 0.05) \n",
        "y_pred_df3[\"Predictions\"] = ARMAmodel.predict(start = y_pred_df3.index[0], end = y_pred_df3.index[-1])\n",
        "y_pred_df3.index = test.index\n",
        "y_pred_out3 = y_pred_df3[\"Predictions\"] \n",
        "y_pred_out3"
      ],
      "metadata": {
        "colab": {
          "base_uri": "https://localhost:8080/"
        },
        "id": "tF6idc9HnouS",
        "outputId": "3b57458f-8f28-4f14-dbc0-dd14470a24e4"
      },
      "execution_count": 30,
      "outputs": [
        {
          "output_type": "stream",
          "name": "stderr",
          "text": [
            "/usr/local/lib/python3.7/dist-packages/statsmodels/tsa/base/tsa_model.py:579: ValueWarning: An unsupported index was provided and will be ignored when e.g. forecasting.\n",
            "  ' ignored when e.g. forecasting.', ValueWarning)\n",
            "/usr/local/lib/python3.7/dist-packages/statsmodels/tsa/base/tsa_model.py:579: ValueWarning: An unsupported index was provided and will be ignored when e.g. forecasting.\n",
            "  ' ignored when e.g. forecasting.', ValueWarning)\n",
            "/usr/local/lib/python3.7/dist-packages/statsmodels/tsa/base/tsa_model.py:379: ValueWarning: No supported index is available. Prediction results will be given with an integer index beginning at `start`.\n",
            "  ValueWarning)\n",
            "/usr/local/lib/python3.7/dist-packages/statsmodels/tsa/base/tsa_model.py:379: ValueWarning: No supported index is available. Prediction results will be given with an integer index beginning at `start`.\n",
            "  ValueWarning)\n"
          ]
        },
        {
          "output_type": "execute_result",
          "data": {
            "text/plain": [
              "9       9.319100\n",
              "19     11.809250\n",
              "29     13.677481\n",
              "39     15.079119\n",
              "49     16.130695\n",
              "         ...    \n",
              "959    19.289609\n",
              "969    19.289609\n",
              "979    19.289609\n",
              "989    19.289609\n",
              "999    19.289609\n",
              "Name: Predictions, Length: 100, dtype: float64"
            ]
          },
          "metadata": {},
          "execution_count": 30
        }
      ]
    },
    {
      "cell_type": "code",
      "source": [
        "y = train['Para-12']\n",
        "ARMAmodel = SARIMAX(y, order = (1, 1, 1))\n",
        "ARMAmodel = ARMAmodel.fit()\n",
        "y_pred = ARMAmodel.get_forecast(len(test['Para-12']))\n",
        "y_pred_df4 = y_pred.conf_int(alpha = 0.05) \n",
        "y_pred_df4[\"Predictions\"] = ARMAmodel.predict(start = y_pred_df4.index[0], end = y_pred_df4.index[-1])\n",
        "y_pred_df4.index = test.index\n",
        "y_pred_out4 = y_pred_df4[\"Predictions\"] \n",
        "y_pred_out4"
      ],
      "metadata": {
        "colab": {
          "base_uri": "https://localhost:8080/"
        },
        "id": "dZAKiS7Gn1-y",
        "outputId": "babcd72b-cec0-4af3-a35a-cd9f289f8318"
      },
      "execution_count": 39,
      "outputs": [
        {
          "output_type": "stream",
          "name": "stderr",
          "text": [
            "/usr/local/lib/python3.7/dist-packages/statsmodels/tsa/base/tsa_model.py:579: ValueWarning: An unsupported index was provided and will be ignored when e.g. forecasting.\n",
            "  ' ignored when e.g. forecasting.', ValueWarning)\n",
            "/usr/local/lib/python3.7/dist-packages/statsmodels/tsa/base/tsa_model.py:579: ValueWarning: An unsupported index was provided and will be ignored when e.g. forecasting.\n",
            "  ' ignored when e.g. forecasting.', ValueWarning)\n",
            "/usr/local/lib/python3.7/dist-packages/statsmodels/tsa/base/tsa_model.py:379: ValueWarning: No supported index is available. Prediction results will be given with an integer index beginning at `start`.\n",
            "  ValueWarning)\n",
            "/usr/local/lib/python3.7/dist-packages/statsmodels/tsa/base/tsa_model.py:379: ValueWarning: No supported index is available. Prediction results will be given with an integer index beginning at `start`.\n",
            "  ValueWarning)\n"
          ]
        },
        {
          "output_type": "execute_result",
          "data": {
            "text/plain": [
              "9      14.097013\n",
              "19     11.604044\n",
              "29     10.011700\n",
              "39      8.994616\n",
              "49      8.344970\n",
              "         ...    \n",
              "959     7.196368\n",
              "969     7.196368\n",
              "979     7.196368\n",
              "989     7.196368\n",
              "999     7.196368\n",
              "Name: Predictions, Length: 100, dtype: float64"
            ]
          },
          "metadata": {},
          "execution_count": 39
        }
      ]
    },
    {
      "cell_type": "code",
      "source": [
        "y = train['Para-13']\n",
        "ARMAmodel = SARIMAX(y, order = (1, 1, 1))\n",
        "ARMAmodel = ARMAmodel.fit()\n",
        "y_pred = ARMAmodel.get_forecast(len(test['Para-13']))\n",
        "y_pred_df5 = y_pred.conf_int(alpha = 0.05) \n",
        "y_pred_df5[\"Predictions\"] = ARMAmodel.predict(start = y_pred_df5.index[0], end = y_pred_df5.index[-1])\n",
        "y_pred_df5.index = test.index\n",
        "y_pred_out5 = y_pred_df5[\"Predictions\"] \n",
        "y_pred_out5"
      ],
      "metadata": {
        "colab": {
          "base_uri": "https://localhost:8080/"
        },
        "id": "TbA-lqZIoLQ7",
        "outputId": "538c7de7-43ba-4df1-d64c-fa3f7b496afc"
      },
      "execution_count": 50,
      "outputs": [
        {
          "output_type": "stream",
          "name": "stderr",
          "text": [
            "/usr/local/lib/python3.7/dist-packages/statsmodels/tsa/base/tsa_model.py:579: ValueWarning: An unsupported index was provided and will be ignored when e.g. forecasting.\n",
            "  ' ignored when e.g. forecasting.', ValueWarning)\n",
            "/usr/local/lib/python3.7/dist-packages/statsmodels/tsa/base/tsa_model.py:579: ValueWarning: An unsupported index was provided and will be ignored when e.g. forecasting.\n",
            "  ' ignored when e.g. forecasting.', ValueWarning)\n",
            "/usr/local/lib/python3.7/dist-packages/statsmodels/tsa/base/tsa_model.py:379: ValueWarning: No supported index is available. Prediction results will be given with an integer index beginning at `start`.\n",
            "  ValueWarning)\n",
            "/usr/local/lib/python3.7/dist-packages/statsmodels/tsa/base/tsa_model.py:379: ValueWarning: No supported index is available. Prediction results will be given with an integer index beginning at `start`.\n",
            "  ValueWarning)\n"
          ]
        },
        {
          "output_type": "execute_result",
          "data": {
            "text/plain": [
              "9      1.713135\n",
              "19     1.623977\n",
              "29     1.577180\n",
              "39     1.552618\n",
              "49     1.539725\n",
              "         ...   \n",
              "959    1.525483\n",
              "969    1.525483\n",
              "979    1.525483\n",
              "989    1.525483\n",
              "999    1.525483\n",
              "Name: Predictions, Length: 100, dtype: float64"
            ]
          },
          "metadata": {},
          "execution_count": 50
        }
      ]
    },
    {
      "cell_type": "code",
      "source": [
        "#ARIMA\n",
        "from statsmodels.tsa.arima.model import ARIMA"
      ],
      "metadata": {
        "id": "gbRrfcSCoj2o"
      },
      "execution_count": 53,
      "outputs": []
    },
    {
      "cell_type": "code",
      "source": [
        "y=train['Para-9']\n",
        "ARIMAmodel = ARIMA(y, order = (1, 1, 2))\n",
        "ARIMAmodel = ARIMAmodel.fit()\n",
        "y_pred = ARIMAmodel.get_forecast(len(test['Para-9']))\n",
        "y_pred_df1 = y_pred.conf_int(alpha = 0.05) \n",
        "y_pred_df1[\"Predictions\"] = ARIMAmodel.predict(start = y_pred_df1.index[0], end = y_pred_df1.index[-1])\n",
        "y_pred_df1.index = test.index\n",
        "y_pred_out1 = y_pred_df1[\"Predictions\"] "
      ],
      "metadata": {
        "colab": {
          "base_uri": "https://localhost:8080/"
        },
        "id": "EelZ1MciolBW",
        "outputId": "71c661a6-9d83-416f-f740-ef16f4334058"
      },
      "execution_count": 65,
      "outputs": [
        {
          "output_type": "stream",
          "name": "stderr",
          "text": [
            "/usr/local/lib/python3.7/dist-packages/statsmodels/tsa/base/tsa_model.py:579: ValueWarning: An unsupported index was provided and will be ignored when e.g. forecasting.\n",
            "  ' ignored when e.g. forecasting.', ValueWarning)\n",
            "/usr/local/lib/python3.7/dist-packages/statsmodels/tsa/base/tsa_model.py:579: ValueWarning: An unsupported index was provided and will be ignored when e.g. forecasting.\n",
            "  ' ignored when e.g. forecasting.', ValueWarning)\n",
            "/usr/local/lib/python3.7/dist-packages/statsmodels/tsa/base/tsa_model.py:579: ValueWarning: An unsupported index was provided and will be ignored when e.g. forecasting.\n",
            "  ' ignored when e.g. forecasting.', ValueWarning)\n",
            "/usr/local/lib/python3.7/dist-packages/statsmodels/tsa/statespace/sarimax.py:966: UserWarning: Non-stationary starting autoregressive parameters found. Using zeros as starting parameters.\n",
            "  warn('Non-stationary starting autoregressive parameters'\n",
            "/usr/local/lib/python3.7/dist-packages/statsmodels/tsa/statespace/sarimax.py:978: UserWarning: Non-invertible starting MA parameters found. Using zeros as starting parameters.\n",
            "  warn('Non-invertible starting MA parameters found.'\n",
            "/usr/local/lib/python3.7/dist-packages/statsmodels/tsa/base/tsa_model.py:379: ValueWarning: No supported index is available. Prediction results will be given with an integer index beginning at `start`.\n",
            "  ValueWarning)\n",
            "/usr/local/lib/python3.7/dist-packages/statsmodels/tsa/base/tsa_model.py:379: ValueWarning: No supported index is available. Prediction results will be given with an integer index beginning at `start`.\n",
            "  ValueWarning)\n"
          ]
        }
      ]
    },
    {
      "cell_type": "code",
      "source": [
        "y=train['Para-10']\n",
        "ARIMAmodel = ARIMA(y, order = (3, 1, 1))\n",
        "ARIMAmodel = ARIMAmodel.fit()\n",
        "y_pred = ARIMAmodel.get_forecast(len(test['Para-10']))\n",
        "y_pred_df2 = y_pred.conf_int(alpha = 0.05) \n",
        "y_pred_df2[\"Predictions\"] = ARIMAmodel.predict(start = y_pred_df2.index[0], end = y_pred_df2.index[-1])\n",
        "y_pred_df2.index = test.index\n",
        "y_pred_out2 = y_pred_df2[\"Predictions\"] \n",
        "y_pred_out2"
      ],
      "metadata": {
        "colab": {
          "base_uri": "https://localhost:8080/"
        },
        "id": "AugJvjKmpHF3",
        "outputId": "b0177f6e-452b-4aad-8199-2d1bc3dd09e1"
      },
      "execution_count": 75,
      "outputs": [
        {
          "output_type": "stream",
          "name": "stderr",
          "text": [
            "/usr/local/lib/python3.7/dist-packages/statsmodels/tsa/base/tsa_model.py:579: ValueWarning: An unsupported index was provided and will be ignored when e.g. forecasting.\n",
            "  ' ignored when e.g. forecasting.', ValueWarning)\n",
            "/usr/local/lib/python3.7/dist-packages/statsmodels/tsa/base/tsa_model.py:579: ValueWarning: An unsupported index was provided and will be ignored when e.g. forecasting.\n",
            "  ' ignored when e.g. forecasting.', ValueWarning)\n",
            "/usr/local/lib/python3.7/dist-packages/statsmodels/tsa/base/tsa_model.py:579: ValueWarning: An unsupported index was provided and will be ignored when e.g. forecasting.\n",
            "  ' ignored when e.g. forecasting.', ValueWarning)\n",
            "/usr/local/lib/python3.7/dist-packages/statsmodels/tsa/base/tsa_model.py:379: ValueWarning: No supported index is available. Prediction results will be given with an integer index beginning at `start`.\n",
            "  ValueWarning)\n",
            "/usr/local/lib/python3.7/dist-packages/statsmodels/tsa/base/tsa_model.py:379: ValueWarning: No supported index is available. Prediction results will be given with an integer index beginning at `start`.\n",
            "  ValueWarning)\n"
          ]
        },
        {
          "output_type": "execute_result",
          "data": {
            "text/plain": [
              "9      42.780271\n",
              "19     52.191126\n",
              "29     59.295124\n",
              "39     64.642876\n",
              "49     68.666410\n",
              "         ...    \n",
              "959    80.885754\n",
              "969    80.885754\n",
              "979    80.885754\n",
              "989    80.885754\n",
              "999    80.885754\n",
              "Name: Predictions, Length: 100, dtype: float64"
            ]
          },
          "metadata": {},
          "execution_count": 75
        }
      ]
    },
    {
      "cell_type": "code",
      "source": [
        "y=train['Para-11']\n",
        "ARIMAmodel = ARIMA(y, order = (1, 1, 1))\n",
        "ARIMAmodel = ARIMAmodel.fit()\n",
        "y_pred = ARIMAmodel.get_forecast(len(test['Para-11']))\n",
        "y_pred_df3 = y_pred.conf_int(alpha = 0.05) \n",
        "y_pred_df3[\"Predictions\"] = ARIMAmodel.predict(start = y_pred_df3.index[0], end = y_pred_df3.index[-1])\n",
        "y_pred_df3.index = test.index\n",
        "y_pred_out3 = y_pred_df3[\"Predictions\"] \n",
        "y_pred_out3"
      ],
      "metadata": {
        "colab": {
          "base_uri": "https://localhost:8080/"
        },
        "id": "-BDiHg31skzP",
        "outputId": "13a4d318-1615-46a2-9a2d-400251147788"
      },
      "execution_count": 83,
      "outputs": [
        {
          "output_type": "stream",
          "name": "stderr",
          "text": [
            "/usr/local/lib/python3.7/dist-packages/statsmodels/tsa/base/tsa_model.py:579: ValueWarning: An unsupported index was provided and will be ignored when e.g. forecasting.\n",
            "  ' ignored when e.g. forecasting.', ValueWarning)\n",
            "/usr/local/lib/python3.7/dist-packages/statsmodels/tsa/base/tsa_model.py:579: ValueWarning: An unsupported index was provided and will be ignored when e.g. forecasting.\n",
            "  ' ignored when e.g. forecasting.', ValueWarning)\n",
            "/usr/local/lib/python3.7/dist-packages/statsmodels/tsa/base/tsa_model.py:579: ValueWarning: An unsupported index was provided and will be ignored when e.g. forecasting.\n",
            "  ' ignored when e.g. forecasting.', ValueWarning)\n",
            "/usr/local/lib/python3.7/dist-packages/statsmodels/tsa/base/tsa_model.py:379: ValueWarning: No supported index is available. Prediction results will be given with an integer index beginning at `start`.\n",
            "  ValueWarning)\n",
            "/usr/local/lib/python3.7/dist-packages/statsmodels/tsa/base/tsa_model.py:379: ValueWarning: No supported index is available. Prediction results will be given with an integer index beginning at `start`.\n",
            "  ValueWarning)\n"
          ]
        },
        {
          "output_type": "execute_result",
          "data": {
            "text/plain": [
              "9       9.319100\n",
              "19     11.809250\n",
              "29     13.677481\n",
              "39     15.079119\n",
              "49     16.130695\n",
              "         ...    \n",
              "959    19.289609\n",
              "969    19.289609\n",
              "979    19.289609\n",
              "989    19.289609\n",
              "999    19.289609\n",
              "Name: Predictions, Length: 100, dtype: float64"
            ]
          },
          "metadata": {},
          "execution_count": 83
        }
      ]
    },
    {
      "cell_type": "code",
      "source": [
        "y=train['Para-12']\n",
        "ARIMAmodel = ARIMA(y, order = (1, 1, 1))\n",
        "ARIMAmodel = ARIMAmodel.fit()\n",
        "y_pred = ARIMAmodel.get_forecast(len(test['Para-12']))\n",
        "y_pred_df4 = y_pred.conf_int(alpha = 0.05) \n",
        "y_pred_df4[\"Predictions\"] = ARIMAmodel.predict(start = y_pred_df4.index[0], end = y_pred_df4.index[-1])\n",
        "y_pred_df4.index = test.index\n",
        "y_pred_out4 = y_pred_df4[\"Predictions\"] \n",
        "y_pred_out4"
      ],
      "metadata": {
        "colab": {
          "base_uri": "https://localhost:8080/"
        },
        "id": "WX9myNwCu8LK",
        "outputId": "1ddc8654-f0ad-4de5-f1fe-47573876dfea"
      },
      "execution_count": 89,
      "outputs": [
        {
          "output_type": "stream",
          "name": "stderr",
          "text": [
            "/usr/local/lib/python3.7/dist-packages/statsmodels/tsa/base/tsa_model.py:579: ValueWarning: An unsupported index was provided and will be ignored when e.g. forecasting.\n",
            "  ' ignored when e.g. forecasting.', ValueWarning)\n",
            "/usr/local/lib/python3.7/dist-packages/statsmodels/tsa/base/tsa_model.py:579: ValueWarning: An unsupported index was provided and will be ignored when e.g. forecasting.\n",
            "  ' ignored when e.g. forecasting.', ValueWarning)\n",
            "/usr/local/lib/python3.7/dist-packages/statsmodels/tsa/base/tsa_model.py:579: ValueWarning: An unsupported index was provided and will be ignored when e.g. forecasting.\n",
            "  ' ignored when e.g. forecasting.', ValueWarning)\n",
            "/usr/local/lib/python3.7/dist-packages/statsmodels/tsa/base/tsa_model.py:379: ValueWarning: No supported index is available. Prediction results will be given with an integer index beginning at `start`.\n",
            "  ValueWarning)\n",
            "/usr/local/lib/python3.7/dist-packages/statsmodels/tsa/base/tsa_model.py:379: ValueWarning: No supported index is available. Prediction results will be given with an integer index beginning at `start`.\n",
            "  ValueWarning)\n"
          ]
        },
        {
          "output_type": "execute_result",
          "data": {
            "text/plain": [
              "9      14.097013\n",
              "19     11.604044\n",
              "29     10.011700\n",
              "39      8.994616\n",
              "49      8.344970\n",
              "         ...    \n",
              "959     7.196368\n",
              "969     7.196368\n",
              "979     7.196368\n",
              "989     7.196368\n",
              "999     7.196368\n",
              "Name: Predictions, Length: 100, dtype: float64"
            ]
          },
          "metadata": {},
          "execution_count": 89
        }
      ]
    },
    {
      "cell_type": "code",
      "source": [
        "y=train['Para-13']\n",
        "ARIMAmodel = ARIMA(y, order = (1, 1, 1))\n",
        "ARIMAmodel = ARIMAmodel.fit()\n",
        "y_pred = ARIMAmodel.get_forecast(len(test['Para-13']))\n",
        "y_pred_df5 = y_pred.conf_int(alpha = 0.05) \n",
        "y_pred_df5[\"Predictions\"] = ARIMAmodel.predict(start = y_pred_df5.index[0], end = y_pred_df5.index[-1])\n",
        "y_pred_df5.index = test.index\n",
        "y_pred_out5 = y_pred_df5[\"Predictions\"] \n",
        "y_pred_out5"
      ],
      "metadata": {
        "colab": {
          "base_uri": "https://localhost:8080/"
        },
        "id": "q7bYfDR5vNd-",
        "outputId": "0d4f69f7-6b78-40a5-f7bc-9204c55f6ee4"
      },
      "execution_count": 95,
      "outputs": [
        {
          "output_type": "stream",
          "name": "stderr",
          "text": [
            "/usr/local/lib/python3.7/dist-packages/statsmodels/tsa/base/tsa_model.py:579: ValueWarning: An unsupported index was provided and will be ignored when e.g. forecasting.\n",
            "  ' ignored when e.g. forecasting.', ValueWarning)\n",
            "/usr/local/lib/python3.7/dist-packages/statsmodels/tsa/base/tsa_model.py:579: ValueWarning: An unsupported index was provided and will be ignored when e.g. forecasting.\n",
            "  ' ignored when e.g. forecasting.', ValueWarning)\n",
            "/usr/local/lib/python3.7/dist-packages/statsmodels/tsa/base/tsa_model.py:579: ValueWarning: An unsupported index was provided and will be ignored when e.g. forecasting.\n",
            "  ' ignored when e.g. forecasting.', ValueWarning)\n",
            "/usr/local/lib/python3.7/dist-packages/statsmodels/tsa/base/tsa_model.py:379: ValueWarning: No supported index is available. Prediction results will be given with an integer index beginning at `start`.\n",
            "  ValueWarning)\n",
            "/usr/local/lib/python3.7/dist-packages/statsmodels/tsa/base/tsa_model.py:379: ValueWarning: No supported index is available. Prediction results will be given with an integer index beginning at `start`.\n",
            "  ValueWarning)\n"
          ]
        },
        {
          "output_type": "execute_result",
          "data": {
            "text/plain": [
              "9      1.713135\n",
              "19     1.623977\n",
              "29     1.577180\n",
              "39     1.552618\n",
              "49     1.539725\n",
              "         ...   \n",
              "959    1.525483\n",
              "969    1.525483\n",
              "979    1.525483\n",
              "989    1.525483\n",
              "999    1.525483\n",
              "Name: Predictions, Length: 100, dtype: float64"
            ]
          },
          "metadata": {},
          "execution_count": 95
        }
      ]
    },
    {
      "cell_type": "code",
      "source": [
        "y=train['Para-9']\n",
        "SARIMAXmodel = SARIMAX(y, order = (2, 2, 2), seasonal_order=(2,1,1,12))\n",
        "SARIMAXmodel = SARIMAXmodel.fit()\n",
        "y_pred = SARIMAXmodel.get_forecast(len(test['Para-9']))\n",
        "y_pred_df1 = y_pred.conf_int(alpha = 0.05) \n",
        "y_pred_df1[\"Predictions\"] = SARIMAXmodel.predict(start = y_pred_df1.index[0], end = y_pred_df1.index[-1])\n",
        "y_pred_df1.index = test.index\n",
        "y_pred_out1 = y_pred_df1[\"Predictions\"] \n",
        "y_pred_out1"
      ],
      "metadata": {
        "colab": {
          "base_uri": "https://localhost:8080/"
        },
        "id": "oXUXLAGQvf7t",
        "outputId": "9ea5497f-3d07-4534-99b8-eb5ec6f597d4"
      },
      "execution_count": 113,
      "outputs": [
        {
          "output_type": "stream",
          "name": "stderr",
          "text": [
            "/usr/local/lib/python3.7/dist-packages/statsmodels/tsa/base/tsa_model.py:579: ValueWarning: An unsupported index was provided and will be ignored when e.g. forecasting.\n",
            "  ' ignored when e.g. forecasting.', ValueWarning)\n",
            "/usr/local/lib/python3.7/dist-packages/statsmodels/tsa/base/tsa_model.py:579: ValueWarning: An unsupported index was provided and will be ignored when e.g. forecasting.\n",
            "  ' ignored when e.g. forecasting.', ValueWarning)\n",
            "/usr/local/lib/python3.7/dist-packages/statsmodels/tsa/base/tsa_model.py:379: ValueWarning: No supported index is available. Prediction results will be given with an integer index beginning at `start`.\n",
            "  ValueWarning)\n",
            "/usr/local/lib/python3.7/dist-packages/statsmodels/tsa/base/tsa_model.py:379: ValueWarning: No supported index is available. Prediction results will be given with an integer index beginning at `start`.\n",
            "  ValueWarning)\n"
          ]
        },
        {
          "output_type": "execute_result",
          "data": {
            "text/plain": [
              "9      114.977583\n",
              "19     116.208407\n",
              "29     115.974694\n",
              "39     114.707719\n",
              "49     124.447335\n",
              "          ...    \n",
              "959    152.947990\n",
              "969    136.867730\n",
              "979    142.606626\n",
              "989    149.391630\n",
              "999    135.220076\n",
              "Name: Predictions, Length: 100, dtype: float64"
            ]
          },
          "metadata": {},
          "execution_count": 113
        }
      ]
    },
    {
      "cell_type": "code",
      "source": [],
      "metadata": {
        "id": "gxREG_BG3M8A"
      },
      "execution_count": null,
      "outputs": []
    },
    {
      "cell_type": "code",
      "source": [
        "y=train['Para-10']\n",
        "SARIMAXmodel = SARIMAX(y, order = (2, 1, 1), seasonal_order=(2,1,1,12))\n",
        "SARIMAXmodel = SARIMAXmodel.fit()\n",
        "y_pred = SARIMAXmodel.get_forecast(len(test['Para-10']))\n",
        "y_pred_df2 = y_pred.conf_int(alpha = 0.05) \n",
        "y_pred_df2[\"Predictions\"] = SARIMAXmodel.predict(start = y_pred_df2.index[0], end = y_pred_df2.index[-1])\n",
        "y_pred_df2.index = test.index\n",
        "y_pred_out2 = y_pred_df2[\"Predictions\"] \n",
        "y_pred_out2"
      ],
      "metadata": {
        "colab": {
          "base_uri": "https://localhost:8080/"
        },
        "id": "nS-a6NgUxx4f",
        "outputId": "e3121047-8c7f-4a95-c2d1-24afecae2890"
      },
      "execution_count": 122,
      "outputs": [
        {
          "output_type": "stream",
          "name": "stderr",
          "text": [
            "/usr/local/lib/python3.7/dist-packages/statsmodels/tsa/base/tsa_model.py:579: ValueWarning: An unsupported index was provided and will be ignored when e.g. forecasting.\n",
            "  ' ignored when e.g. forecasting.', ValueWarning)\n",
            "/usr/local/lib/python3.7/dist-packages/statsmodels/tsa/base/tsa_model.py:579: ValueWarning: An unsupported index was provided and will be ignored when e.g. forecasting.\n",
            "  ' ignored when e.g. forecasting.', ValueWarning)\n",
            "/usr/local/lib/python3.7/dist-packages/statsmodels/tsa/base/tsa_model.py:379: ValueWarning: No supported index is available. Prediction results will be given with an integer index beginning at `start`.\n",
            "  ValueWarning)\n",
            "/usr/local/lib/python3.7/dist-packages/statsmodels/tsa/base/tsa_model.py:379: ValueWarning: No supported index is available. Prediction results will be given with an integer index beginning at `start`.\n",
            "  ValueWarning)\n"
          ]
        },
        {
          "output_type": "execute_result",
          "data": {
            "text/plain": [
              "9      -5.233763\n",
              "19     14.606017\n",
              "29     35.532319\n",
              "39     29.973025\n",
              "49     52.637107\n",
              "         ...    \n",
              "959    98.237372\n",
              "969    63.448355\n",
              "979    74.379033\n",
              "989    88.893161\n",
              "999    53.055840\n",
              "Name: Predictions, Length: 100, dtype: float64"
            ]
          },
          "metadata": {},
          "execution_count": 122
        }
      ]
    },
    {
      "cell_type": "code",
      "source": [
        "y=train['Para-11']\n",
        "SARIMAXmodel = SARIMAX(y, order = (2, 1, 1), seasonal_order=(2,1,1,12))\n",
        "SARIMAXmodel = SARIMAXmodel.fit()\n",
        "y_pred = SARIMAXmodel.get_forecast(len(test['Para-11']))\n",
        "y_pred_df3 = y_pred.conf_int(alpha = 0.05) \n",
        "y_pred_df3[\"Predictions\"] = SARIMAXmodel.predict(start = y_pred_df3.index[0], end = y_pred_df3.index[-1])\n",
        "y_pred_df3.index = test.index\n",
        "y_pred_out3 = y_pred_df3[\"Predictions\"] \n",
        "y_pred_out3"
      ],
      "metadata": {
        "colab": {
          "base_uri": "https://localhost:8080/"
        },
        "id": "5ChlFDL7yOJb",
        "outputId": "68dd08b9-b244-4b29-cba2-49709f485f76"
      },
      "execution_count": 124,
      "outputs": [
        {
          "output_type": "stream",
          "name": "stderr",
          "text": [
            "/usr/local/lib/python3.7/dist-packages/statsmodels/tsa/base/tsa_model.py:579: ValueWarning: An unsupported index was provided and will be ignored when e.g. forecasting.\n",
            "  ' ignored when e.g. forecasting.', ValueWarning)\n",
            "/usr/local/lib/python3.7/dist-packages/statsmodels/tsa/base/tsa_model.py:579: ValueWarning: An unsupported index was provided and will be ignored when e.g. forecasting.\n",
            "  ' ignored when e.g. forecasting.', ValueWarning)\n",
            "/usr/local/lib/python3.7/dist-packages/statsmodels/tsa/statespace/sarimax.py:966: UserWarning: Non-stationary starting autoregressive parameters found. Using zeros as starting parameters.\n",
            "  warn('Non-stationary starting autoregressive parameters'\n",
            "/usr/local/lib/python3.7/dist-packages/statsmodels/tsa/statespace/sarimax.py:978: UserWarning: Non-invertible starting MA parameters found. Using zeros as starting parameters.\n",
            "  warn('Non-invertible starting MA parameters found.'\n",
            "/usr/local/lib/python3.7/dist-packages/statsmodels/tsa/base/tsa_model.py:379: ValueWarning: No supported index is available. Prediction results will be given with an integer index beginning at `start`.\n",
            "  ValueWarning)\n",
            "/usr/local/lib/python3.7/dist-packages/statsmodels/tsa/base/tsa_model.py:379: ValueWarning: No supported index is available. Prediction results will be given with an integer index beginning at `start`.\n",
            "  ValueWarning)\n"
          ]
        },
        {
          "output_type": "execute_result",
          "data": {
            "text/plain": [
              "9      -0.738318\n",
              "19      0.778160\n",
              "29      3.616762\n",
              "39     18.779383\n",
              "49     23.715017\n",
              "         ...    \n",
              "959    26.641494\n",
              "969    22.815140\n",
              "979    27.553988\n",
              "989    32.390302\n",
              "999    19.132881\n",
              "Name: Predictions, Length: 100, dtype: float64"
            ]
          },
          "metadata": {},
          "execution_count": 124
        }
      ]
    },
    {
      "cell_type": "code",
      "source": [
        "y=train['Para-12']\n",
        "SARIMAXmodel = SARIMAX(y, order = (1, 1, 1), seasonal_order=(1,1,1,12))\n",
        "SARIMAXmodel = SARIMAXmodel.fit()\n",
        "y_pred = SARIMAXmodel.get_forecast(len(test['Para-12']))\n",
        "y_pred_df4 = y_pred.conf_int(alpha = 0.05) \n",
        "y_pred_df4[\"Predictions\"] = SARIMAXmodel.predict(start = y_pred_df4.index[0], end = y_pred_df4.index[-1])\n",
        "y_pred_df4.index = test.index\n",
        "y_pred_out4 = y_pred_df4[\"Predictions\"] \n",
        "y_pred_out4"
      ],
      "metadata": {
        "colab": {
          "base_uri": "https://localhost:8080/"
        },
        "id": "J1upuhz6zEw4",
        "outputId": "085b595f-6adc-454c-e6b7-b5bd0d715668"
      },
      "execution_count": 128,
      "outputs": [
        {
          "output_type": "stream",
          "name": "stderr",
          "text": [
            "/usr/local/lib/python3.7/dist-packages/statsmodels/tsa/base/tsa_model.py:579: ValueWarning: An unsupported index was provided and will be ignored when e.g. forecasting.\n",
            "  ' ignored when e.g. forecasting.', ValueWarning)\n",
            "/usr/local/lib/python3.7/dist-packages/statsmodels/tsa/base/tsa_model.py:579: ValueWarning: An unsupported index was provided and will be ignored when e.g. forecasting.\n",
            "  ' ignored when e.g. forecasting.', ValueWarning)\n",
            "/usr/local/lib/python3.7/dist-packages/statsmodels/tsa/statespace/sarimax.py:966: UserWarning: Non-stationary starting autoregressive parameters found. Using zeros as starting parameters.\n",
            "  warn('Non-stationary starting autoregressive parameters'\n",
            "/usr/local/lib/python3.7/dist-packages/statsmodels/tsa/statespace/sarimax.py:978: UserWarning: Non-invertible starting MA parameters found. Using zeros as starting parameters.\n",
            "  warn('Non-invertible starting MA parameters found.'\n",
            "/usr/local/lib/python3.7/dist-packages/statsmodels/tsa/base/tsa_model.py:379: ValueWarning: No supported index is available. Prediction results will be given with an integer index beginning at `start`.\n",
            "  ValueWarning)\n",
            "/usr/local/lib/python3.7/dist-packages/statsmodels/tsa/base/tsa_model.py:379: ValueWarning: No supported index is available. Prediction results will be given with an integer index beginning at `start`.\n",
            "  ValueWarning)\n"
          ]
        },
        {
          "output_type": "execute_result",
          "data": {
            "text/plain": [
              "9      12.204178\n",
              "19     10.575621\n",
              "29     10.192076\n",
              "39      7.548528\n",
              "49      7.685095\n",
              "         ...    \n",
              "959     7.315699\n",
              "969     5.350469\n",
              "979     6.133100\n",
              "989     7.257931\n",
              "999     5.234266\n",
              "Name: Predictions, Length: 100, dtype: float64"
            ]
          },
          "metadata": {},
          "execution_count": 128
        }
      ]
    },
    {
      "cell_type": "code",
      "source": [
        "y=train['Para-13']\n",
        "SARIMAXmodel = SARIMAX(y, order = (1, 1, 1), seasonal_order=(1,1,1,12))\n",
        "SARIMAXmodel = SARIMAXmodel.fit()\n",
        "y_pred = SARIMAXmodel.get_forecast(len(test['Para-13']))\n",
        "y_pred_df5 = y_pred.conf_int(alpha = 0.05) \n",
        "y_pred_df5[\"Predictions\"] = SARIMAXmodel.predict(start = y_pred_df5.index[0], end = y_pred_df5.index[-1])\n",
        "y_pred_df5.index = test.index\n",
        "y_pred_out5 = y_pred_df5[\"Predictions\"] \n",
        "y_pred_out5"
      ],
      "metadata": {
        "colab": {
          "base_uri": "https://localhost:8080/"
        },
        "id": "CU9xvlcazfq6",
        "outputId": "f80c139f-9da3-4128-9400-98ef6d1e338d"
      },
      "execution_count": 131,
      "outputs": [
        {
          "output_type": "stream",
          "name": "stderr",
          "text": [
            "/usr/local/lib/python3.7/dist-packages/statsmodels/tsa/base/tsa_model.py:579: ValueWarning: An unsupported index was provided and will be ignored when e.g. forecasting.\n",
            "  ' ignored when e.g. forecasting.', ValueWarning)\n",
            "/usr/local/lib/python3.7/dist-packages/statsmodels/tsa/base/tsa_model.py:579: ValueWarning: An unsupported index was provided and will be ignored when e.g. forecasting.\n",
            "  ' ignored when e.g. forecasting.', ValueWarning)\n",
            "/usr/local/lib/python3.7/dist-packages/statsmodels/tsa/base/tsa_model.py:379: ValueWarning: No supported index is available. Prediction results will be given with an integer index beginning at `start`.\n",
            "  ValueWarning)\n",
            "/usr/local/lib/python3.7/dist-packages/statsmodels/tsa/base/tsa_model.py:379: ValueWarning: No supported index is available. Prediction results will be given with an integer index beginning at `start`.\n",
            "  ValueWarning)\n"
          ]
        },
        {
          "output_type": "execute_result",
          "data": {
            "text/plain": [
              "9      1.698194\n",
              "19     1.699367\n",
              "29     1.963935\n",
              "39     1.683521\n",
              "49     1.738284\n",
              "         ...   \n",
              "959    1.793600\n",
              "969    1.726489\n",
              "979    1.769360\n",
              "989    2.039557\n",
              "999    1.737221\n",
              "Name: Predictions, Length: 100, dtype: float64"
            ]
          },
          "metadata": {},
          "execution_count": 131
        }
      ]
    },
    {
      "cell_type": "code",
      "source": [
        "y=train['Para-9']\n",
        "SARIMAXmodel = SARIMAX(y, order = (2, 1, 1), seasonal_order=(2,1,1,12))\n",
        "SARIMAXmodel = SARIMAXmodel.fit()\n",
        "y_pred = SARIMAXmodel.get_forecast(len(test['Para-9']))\n",
        "y_pred_df1 = y_pred.conf_int(alpha = 0.05) \n",
        "y_pred_df1[\"Predictions\"] = SARIMAXmodel.predict(start = y_pred_df1.index[0], end = y_pred_df1.index[-1])\n",
        "y_pred_df1.index = test.index\n",
        "y_pred_out1 = y_pred_df1[\"Predictions\"] \n",
        "y_pred_out1"
      ],
      "metadata": {
        "colab": {
          "base_uri": "https://localhost:8080/"
        },
        "id": "IaW--t4bz4tf",
        "outputId": "e258d980-4df9-4a34-8d4f-97033344ba62"
      },
      "execution_count": 134,
      "outputs": [
        {
          "output_type": "stream",
          "name": "stderr",
          "text": [
            "/usr/local/lib/python3.7/dist-packages/statsmodels/tsa/base/tsa_model.py:579: ValueWarning: An unsupported index was provided and will be ignored when e.g. forecasting.\n",
            "  ' ignored when e.g. forecasting.', ValueWarning)\n",
            "/usr/local/lib/python3.7/dist-packages/statsmodels/tsa/base/tsa_model.py:579: ValueWarning: An unsupported index was provided and will be ignored when e.g. forecasting.\n",
            "  ' ignored when e.g. forecasting.', ValueWarning)\n",
            "/usr/local/lib/python3.7/dist-packages/statsmodels/tsa/base/tsa_model.py:379: ValueWarning: No supported index is available. Prediction results will be given with an integer index beginning at `start`.\n",
            "  ValueWarning)\n",
            "/usr/local/lib/python3.7/dist-packages/statsmodels/tsa/base/tsa_model.py:379: ValueWarning: No supported index is available. Prediction results will be given with an integer index beginning at `start`.\n",
            "  ValueWarning)\n"
          ]
        },
        {
          "output_type": "execute_result",
          "data": {
            "text/plain": [
              "9      130.738540\n",
              "19     129.114478\n",
              "29     130.523016\n",
              "39     130.176684\n",
              "49     130.800505\n",
              "          ...    \n",
              "959    143.628883\n",
              "969    143.811595\n",
              "979    143.918121\n",
              "989    144.098684\n",
              "999    144.207299\n",
              "Name: Predictions, Length: 100, dtype: float64"
            ]
          },
          "metadata": {},
          "execution_count": 134
        }
      ]
    },
    {
      "cell_type": "code",
      "source": [
        "import numpy as np\n",
        "from sklearn.metrics import mean_squared_error\n"
      ],
      "metadata": {
        "id": "zpkZPDhw28Ts"
      },
      "execution_count": 148,
      "outputs": []
    },
    {
      "cell_type": "code",
      "source": [
        "arma_rmse1 = np.sqrt(mean_squared_error(test[\"Para-9\"].values, y_pred_df1[\"Predictions\"]))"
      ],
      "metadata": {
        "id": "ShjEM57T3Wq3"
      },
      "execution_count": 151,
      "outputs": []
    },
    {
      "cell_type": "code",
      "source": [
        "print(arma_rmse1)"
      ],
      "metadata": {
        "colab": {
          "base_uri": "https://localhost:8080/"
        },
        "id": "IwmHMFBO3hhF",
        "outputId": "775e5c3a-ad6e-44f3-ee13-1014d5f95c20"
      },
      "execution_count": 180,
      "outputs": [
        {
          "output_type": "stream",
          "name": "stdout",
          "text": [
            "92.3444661831113\n"
          ]
        }
      ]
    },
    {
      "cell_type": "code",
      "source": [
        "y=train['Para-10']\n",
        "SARIMAXmodel = SARIMAX(y, order = (2, 1, 1), seasonal_order=(2,1,1,12))\n",
        "SARIMAXmodel = SARIMAXmodel.fit()\n",
        "y_pred = SARIMAXmodel.get_forecast(len(test['Para-10']))\n",
        "y_pred_df2 = y_pred.conf_int(alpha = 0.05) \n",
        "y_pred_df2[\"Predictions\"] = SARIMAXmodel.predict(start = y_pred_df2.index[0], end = y_pred_df2.index[-1])\n",
        "y_pred_df2.index = test.index\n",
        "y_pred_out2 = y_pred_df2[\"Predictions\"] \n",
        "y_pred_out2"
      ],
      "metadata": {
        "colab": {
          "base_uri": "https://localhost:8080/"
        },
        "id": "xhx-Owhc0BK4",
        "outputId": "525a881c-11a0-4d22-9d46-a29662673fe2"
      },
      "execution_count": 136,
      "outputs": [
        {
          "output_type": "stream",
          "name": "stderr",
          "text": [
            "/usr/local/lib/python3.7/dist-packages/statsmodels/tsa/base/tsa_model.py:579: ValueWarning: An unsupported index was provided and will be ignored when e.g. forecasting.\n",
            "  ' ignored when e.g. forecasting.', ValueWarning)\n",
            "/usr/local/lib/python3.7/dist-packages/statsmodels/tsa/base/tsa_model.py:579: ValueWarning: An unsupported index was provided and will be ignored when e.g. forecasting.\n",
            "  ' ignored when e.g. forecasting.', ValueWarning)\n",
            "/usr/local/lib/python3.7/dist-packages/statsmodels/tsa/statespace/sarimax.py:966: UserWarning: Non-stationary starting autoregressive parameters found. Using zeros as starting parameters.\n",
            "  warn('Non-stationary starting autoregressive parameters'\n",
            "/usr/local/lib/python3.7/dist-packages/statsmodels/tsa/statespace/sarimax.py:978: UserWarning: Non-invertible starting MA parameters found. Using zeros as starting parameters.\n",
            "  warn('Non-invertible starting MA parameters found.'\n",
            "/usr/local/lib/python3.7/dist-packages/statsmodels/tsa/base/tsa_model.py:379: ValueWarning: No supported index is available. Prediction results will be given with an integer index beginning at `start`.\n",
            "  ValueWarning)\n",
            "/usr/local/lib/python3.7/dist-packages/statsmodels/tsa/base/tsa_model.py:379: ValueWarning: No supported index is available. Prediction results will be given with an integer index beginning at `start`.\n",
            "  ValueWarning)\n"
          ]
        },
        {
          "output_type": "execute_result",
          "data": {
            "text/plain": [
              "9      -5.233763\n",
              "19     14.606017\n",
              "29     35.532319\n",
              "39     29.973025\n",
              "49     52.637107\n",
              "         ...    \n",
              "959    98.237372\n",
              "969    63.448355\n",
              "979    74.379033\n",
              "989    88.893161\n",
              "999    53.055840\n",
              "Name: Predictions, Length: 100, dtype: float64"
            ]
          },
          "metadata": {},
          "execution_count": 136
        }
      ]
    },
    {
      "cell_type": "code",
      "source": [
        "arma_rmse2 = np.sqrt(mean_squared_error(test[\"Para-10\"].values, y_pred_df2[\"Predictions\"]))"
      ],
      "metadata": {
        "id": "pgJ7fd2X3pqe"
      },
      "execution_count": 159,
      "outputs": []
    },
    {
      "cell_type": "code",
      "source": [
        "print(arma_rmse2)"
      ],
      "metadata": {
        "colab": {
          "base_uri": "https://localhost:8080/"
        },
        "id": "rCGV9ZTj3vRY",
        "outputId": "8a3abf14-6452-450c-fb09-47a729f9e805"
      },
      "execution_count": 182,
      "outputs": [
        {
          "output_type": "stream",
          "name": "stdout",
          "text": [
            "97.56085604528062\n"
          ]
        }
      ]
    },
    {
      "cell_type": "code",
      "source": [
        "y=train['Para-11']\n",
        "SARIMAXmodel = SARIMAX(y, order = (2, 1, 1), seasonal_order=(2,1,1,12))\n",
        "SARIMAXmodel = SARIMAXmodel.fit()\n",
        "y_pred = SARIMAXmodel.get_forecast(len(test['Para-11']))\n",
        "y_pred_df3 = y_pred.conf_int(alpha = 0.05) \n",
        "y_pred_df3[\"Predictions\"] = SARIMAXmodel.predict(start = y_pred_df3.index[0], end = y_pred_df3.index[-1])\n",
        "y_pred_df3.index = test.index\n",
        "y_pred_out3 = y_pred_df3[\"Predictions\"] \n",
        "y_pred_out3"
      ],
      "metadata": {
        "colab": {
          "base_uri": "https://localhost:8080/"
        },
        "id": "fU26umZR0NvI",
        "outputId": "5d6fb0ab-3382-47b3-c30a-e81b76712469"
      },
      "execution_count": 138,
      "outputs": [
        {
          "output_type": "stream",
          "name": "stderr",
          "text": [
            "/usr/local/lib/python3.7/dist-packages/statsmodels/tsa/base/tsa_model.py:579: ValueWarning: An unsupported index was provided and will be ignored when e.g. forecasting.\n",
            "  ' ignored when e.g. forecasting.', ValueWarning)\n",
            "/usr/local/lib/python3.7/dist-packages/statsmodels/tsa/base/tsa_model.py:579: ValueWarning: An unsupported index was provided and will be ignored when e.g. forecasting.\n",
            "  ' ignored when e.g. forecasting.', ValueWarning)\n",
            "/usr/local/lib/python3.7/dist-packages/statsmodels/tsa/statespace/sarimax.py:966: UserWarning: Non-stationary starting autoregressive parameters found. Using zeros as starting parameters.\n",
            "  warn('Non-stationary starting autoregressive parameters'\n",
            "/usr/local/lib/python3.7/dist-packages/statsmodels/tsa/statespace/sarimax.py:978: UserWarning: Non-invertible starting MA parameters found. Using zeros as starting parameters.\n",
            "  warn('Non-invertible starting MA parameters found.'\n",
            "/usr/local/lib/python3.7/dist-packages/statsmodels/tsa/base/tsa_model.py:379: ValueWarning: No supported index is available. Prediction results will be given with an integer index beginning at `start`.\n",
            "  ValueWarning)\n",
            "/usr/local/lib/python3.7/dist-packages/statsmodels/tsa/base/tsa_model.py:379: ValueWarning: No supported index is available. Prediction results will be given with an integer index beginning at `start`.\n",
            "  ValueWarning)\n"
          ]
        },
        {
          "output_type": "execute_result",
          "data": {
            "text/plain": [
              "9      -0.738318\n",
              "19      0.778160\n",
              "29      3.616762\n",
              "39     18.779383\n",
              "49     23.715017\n",
              "         ...    \n",
              "959    26.641494\n",
              "969    22.815140\n",
              "979    27.553988\n",
              "989    32.390302\n",
              "999    19.132881\n",
              "Name: Predictions, Length: 100, dtype: float64"
            ]
          },
          "metadata": {},
          "execution_count": 138
        }
      ]
    },
    {
      "cell_type": "code",
      "source": [
        "arma_rmse3 = np.sqrt(mean_squared_error(test[\"Para-11\"].values, y_pred_df3[\"Predictions\"]))"
      ],
      "metadata": {
        "id": "f4vICQPh30kB"
      },
      "execution_count": 161,
      "outputs": []
    },
    {
      "cell_type": "code",
      "source": [
        "print(arma_rmse3)"
      ],
      "metadata": {
        "colab": {
          "base_uri": "https://localhost:8080/"
        },
        "id": "JJsSpNw34Dpr",
        "outputId": "ea01c13b-318c-4534-b235-7e8c15a5065e"
      },
      "execution_count": 184,
      "outputs": [
        {
          "output_type": "stream",
          "name": "stdout",
          "text": [
            "50.52585314347877\n"
          ]
        }
      ]
    },
    {
      "cell_type": "code",
      "source": [
        "y=train['Para-12']\n",
        "ARIMAmodel = ARIMA(y, order = (1, 1, 1))\n",
        "ARIMAmodel = ARIMAmodel.fit()\n",
        "y_pred = ARIMAmodel.get_forecast(len(test['Para-12']))\n",
        "y_pred_df4 = y_pred.conf_int(alpha = 0.05) \n",
        "y_pred_df4[\"Predictions\"] = ARIMAmodel.predict(start = y_pred_df4.index[0], end = y_pred_df4.index[-1])\n",
        "y_pred_df4.index = test.index\n",
        "y_pred_out4 = y_pred_df4[\"Predictions\"] \n",
        "y_pred_out4"
      ],
      "metadata": {
        "colab": {
          "base_uri": "https://localhost:8080/"
        },
        "id": "iE3s_nb30rN_",
        "outputId": "8b06466f-5433-422a-cc33-e3236de9fb37"
      },
      "execution_count": 140,
      "outputs": [
        {
          "output_type": "stream",
          "name": "stderr",
          "text": [
            "/usr/local/lib/python3.7/dist-packages/statsmodels/tsa/base/tsa_model.py:579: ValueWarning: An unsupported index was provided and will be ignored when e.g. forecasting.\n",
            "  ' ignored when e.g. forecasting.', ValueWarning)\n",
            "/usr/local/lib/python3.7/dist-packages/statsmodels/tsa/base/tsa_model.py:579: ValueWarning: An unsupported index was provided and will be ignored when e.g. forecasting.\n",
            "  ' ignored when e.g. forecasting.', ValueWarning)\n",
            "/usr/local/lib/python3.7/dist-packages/statsmodels/tsa/base/tsa_model.py:579: ValueWarning: An unsupported index was provided and will be ignored when e.g. forecasting.\n",
            "  ' ignored when e.g. forecasting.', ValueWarning)\n",
            "/usr/local/lib/python3.7/dist-packages/statsmodels/tsa/base/tsa_model.py:379: ValueWarning: No supported index is available. Prediction results will be given with an integer index beginning at `start`.\n",
            "  ValueWarning)\n",
            "/usr/local/lib/python3.7/dist-packages/statsmodels/tsa/base/tsa_model.py:379: ValueWarning: No supported index is available. Prediction results will be given with an integer index beginning at `start`.\n",
            "  ValueWarning)\n"
          ]
        },
        {
          "output_type": "execute_result",
          "data": {
            "text/plain": [
              "9      14.097013\n",
              "19     11.604044\n",
              "29     10.011700\n",
              "39      8.994616\n",
              "49      8.344970\n",
              "         ...    \n",
              "959     7.196368\n",
              "969     7.196368\n",
              "979     7.196368\n",
              "989     7.196368\n",
              "999     7.196368\n",
              "Name: Predictions, Length: 100, dtype: float64"
            ]
          },
          "metadata": {},
          "execution_count": 140
        }
      ]
    },
    {
      "cell_type": "code",
      "source": [
        "arma_rmse4 = np.sqrt(mean_squared_error(test[\"Para-12\"].values, y_pred_df4[\"Predictions\"]))"
      ],
      "metadata": {
        "id": "q-oq5z0I4IS5"
      },
      "execution_count": 164,
      "outputs": []
    },
    {
      "cell_type": "code",
      "source": [
        "print(arma_rmse4)"
      ],
      "metadata": {
        "colab": {
          "base_uri": "https://localhost:8080/"
        },
        "id": "15KGHoIb4Nt3",
        "outputId": "820369b1-1495-4c31-b7ce-2dddce5d72ac"
      },
      "execution_count": 177,
      "outputs": [
        {
          "output_type": "stream",
          "name": "stdout",
          "text": [
            "18.91069655724259\n"
          ]
        }
      ]
    },
    {
      "cell_type": "code",
      "source": [
        "y = train['Para-13']\n",
        "ARMAmodel = SARIMAX(y, order = (1, 1, 1))\n",
        "ARMAmodel = ARMAmodel.fit()\n",
        "y_pred = ARMAmodel.get_forecast(len(test['Para-13']))\n",
        "y_pred_df5 = y_pred.conf_int(alpha = 0.05) \n",
        "y_pred_df5[\"Predictions\"] = ARMAmodel.predict(start = y_pred_df5.index[0], end = y_pred_df5.index[-1])\n",
        "y_pred_df5.index = test.index\n",
        "y_pred_out5 = y_pred_df5[\"Predictions\"] \n",
        "y_pred_out5"
      ],
      "metadata": {
        "colab": {
          "base_uri": "https://localhost:8080/"
        },
        "id": "eJ-7DNBh0x_X",
        "outputId": "5d86514e-6329-479f-fc3f-cd154d61f1e0"
      },
      "execution_count": 142,
      "outputs": [
        {
          "output_type": "stream",
          "name": "stderr",
          "text": [
            "/usr/local/lib/python3.7/dist-packages/statsmodels/tsa/base/tsa_model.py:579: ValueWarning: An unsupported index was provided and will be ignored when e.g. forecasting.\n",
            "  ' ignored when e.g. forecasting.', ValueWarning)\n",
            "/usr/local/lib/python3.7/dist-packages/statsmodels/tsa/base/tsa_model.py:579: ValueWarning: An unsupported index was provided and will be ignored when e.g. forecasting.\n",
            "  ' ignored when e.g. forecasting.', ValueWarning)\n",
            "/usr/local/lib/python3.7/dist-packages/statsmodels/tsa/base/tsa_model.py:379: ValueWarning: No supported index is available. Prediction results will be given with an integer index beginning at `start`.\n",
            "  ValueWarning)\n",
            "/usr/local/lib/python3.7/dist-packages/statsmodels/tsa/base/tsa_model.py:379: ValueWarning: No supported index is available. Prediction results will be given with an integer index beginning at `start`.\n",
            "  ValueWarning)\n"
          ]
        },
        {
          "output_type": "execute_result",
          "data": {
            "text/plain": [
              "9      1.713135\n",
              "19     1.623977\n",
              "29     1.577180\n",
              "39     1.552618\n",
              "49     1.539725\n",
              "         ...   \n",
              "959    1.525483\n",
              "969    1.525483\n",
              "979    1.525483\n",
              "989    1.525483\n",
              "999    1.525483\n",
              "Name: Predictions, Length: 100, dtype: float64"
            ]
          },
          "metadata": {},
          "execution_count": 142
        }
      ]
    },
    {
      "cell_type": "code",
      "source": [
        "arma_rmse5 = np.sqrt(mean_squared_error(test[\"Para-13\"].values, y_pred_df5[\"Predictions\"]))"
      ],
      "metadata": {
        "id": "1UGxHQC54WVa"
      },
      "execution_count": 168,
      "outputs": []
    },
    {
      "cell_type": "code",
      "source": [
        "print(arma_rmse5)"
      ],
      "metadata": {
        "colab": {
          "base_uri": "https://localhost:8080/"
        },
        "id": "V_XqAnA-4c97",
        "outputId": "28c350b8-8471-4e58-98c1-a9a1679b1a15"
      },
      "execution_count": 172,
      "outputs": [
        {
          "output_type": "stream",
          "name": "stdout",
          "text": [
            "0.43987704765108\n"
          ]
        }
      ]
    },
    {
      "cell_type": "code",
      "source": [
        " #arma_rmse1=92.3444661831113\n",
        " #arma_rmse2=97.56085604528062\n",
        " #arma_rmse3=50.52585314347877\n",
        " #arma_rmse4=18.91069655724259\n",
        " #arma_rmse5=0.43987704765108\n",
        "avgrmse5=(arma_rmse1+arma_rmse2+arma_rmse3+arma_rmse4+arma_rmse5)/5\n",
        "avgrmse5"
      ],
      "metadata": {
        "colab": {
          "base_uri": "https://localhost:8080/"
        },
        "id": "LXCSExL41DCN",
        "outputId": "e3eb0d50-bf59-4a2b-877f-3a8da93ca1c3"
      },
      "execution_count": 185,
      "outputs": [
        {
          "output_type": "execute_result",
          "data": {
            "text/plain": [
              "51.956349795352864"
            ]
          },
          "metadata": {},
          "execution_count": 185
        }
      ]
    }
  ]
}